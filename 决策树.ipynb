{
 "cells": [
  {
   "cell_type": "markdown",
   "metadata": {},
   "source": [
    "# ①决策树 DecisionTreeClassifier"
   ]
  },
  {
   "cell_type": "code",
   "execution_count": 7,
   "metadata": {},
   "outputs": [],
   "source": [
    "import numpy as np\n",
    "from sklearn.tree import DecisionTreeClassifier\n",
    "from sklearn import  datasets\n",
    "from sklearn import cross_validation\n",
    "import matplotlib.pyplot as plt"
   ]
  },
  {
   "cell_type": "markdown",
   "metadata": {},
   "source": [
    "# 加载用于分类问题的数据集,数据集采用 scikit-learn 自带的 iris 数据"
   ]
  },
  {
   "cell_type": "code",
   "execution_count": 8,
   "metadata": {
    "collapsed": true
   },
   "outputs": [],
   "source": [
    "def load_data():\n",
    "    '''\n",
    "    加载用于分类问题的数据集。数据集采用 scikit-learn 自带的 iris 数据集\n",
    "\n",
    "    :return: 一个元组，用于分类问题。元组元素依次为：训练样本集、测试样本集、训练样本集对应的标记、测试样本集对应的标记\n",
    "    '''\n",
    "    iris=datasets.load_iris() # scikit-learn 自带的 iris 数据集\n",
    "    X_train=iris.data\n",
    "    y_train=iris.target\n",
    "    return cross_validation.train_test_split(X_train, y_train,test_size=0.25,\n",
    "\t\trandom_state=0,stratify=y_train)# 分层采样拆分成训练集和测试集，测试集大小为原始数据集大小的 1/4"
   ]
  },
  {
   "cell_type": "markdown",
   "metadata": {},
   "source": [
    "# 测试 DecisionTreeClassifier 的用法"
   ]
  },
  {
   "cell_type": "code",
   "execution_count": 9,
   "metadata": {
    "collapsed": true
   },
   "outputs": [],
   "source": [
    "def test_DecisionTreeClassifier(*data):\n",
    "    '''\n",
    "    测试 DecisionTreeClassifier 的用法\n",
    "\n",
    "    :param data: 可变参数。它是一个元组，这里要求其元素依次为：训练样本集、测试样本集、训练样本的标记、测试样本的标记\n",
    "    :return:  None\n",
    "    '''\n",
    "    X_train,X_test,y_train,y_test=data\n",
    "    clf = DecisionTreeClassifier()\n",
    "    clf.fit(X_train, y_train)\n",
    "\n",
    "    print(\"Training score:%f\"%(clf.score(X_train,y_train)))\n",
    "    print(\"Testing score:%f\"%(clf.score(X_test,y_test)))"
   ]
  },
  {
   "cell_type": "markdown",
   "metadata": {},
   "source": [
    "# 测试 DecisionTreeClassifier 的预测性能随 criterion 参数的影响"
   ]
  },
  {
   "cell_type": "code",
   "execution_count": 10,
   "metadata": {
    "collapsed": true
   },
   "outputs": [],
   "source": [
    "def test_DecisionTreeClassifier_criterion(*data):\n",
    "    '''\n",
    "    测试 DecisionTreeClassifier 的预测性能随 criterion 参数的影响\n",
    "\n",
    "    :param data:  可变参数。它是一个元组，这里要求其元素依次为：训练样本集、测试样本集、训练样本的标记、测试样本的标记\n",
    "    :return:  None\n",
    "    '''\n",
    "    X_train,X_test,y_train,y_test=data\n",
    "    criterions=['gini','entropy']\n",
    "    for criterion in criterions:\n",
    "        clf = DecisionTreeClassifier(criterion=criterion)\n",
    "        clf.fit(X_train, y_train)\n",
    "        print(\"criterion:%s\"%criterion)\n",
    "        print(\"Training score:%f\"%(clf.score(X_train,y_train)))\n",
    "        print(\"Testing score:%f\"%(clf.score(X_test,y_test)))"
   ]
  },
  {
   "cell_type": "markdown",
   "metadata": {},
   "source": [
    "# 测试 DecisionTreeClassifier 的预测性能随划分类型的影响"
   ]
  },
  {
   "cell_type": "code",
   "execution_count": 11,
   "metadata": {
    "collapsed": true
   },
   "outputs": [],
   "source": [
    "def test_DecisionTreeClassifier_splitter(*data):\n",
    "    '''\n",
    "    测试 DecisionTreeClassifier 的预测性能随划分类型的影响\n",
    "\n",
    "    :param data: 可变参数。它是一个元组，这里要求其元素依次为：训练样本集、测试样本集、训练样本的标记、测试样本的标记\n",
    "    :return:  None\n",
    "    '''\n",
    "    X_train,X_test,y_train,y_test=data\n",
    "    splitters=['best','random']\n",
    "    for splitter in splitters:\n",
    "        clf = DecisionTreeClassifier(splitter=splitter)\n",
    "        clf.fit(X_train, y_train)\n",
    "        print(\"splitter:%s\"%splitter)\n",
    "        print(\"Training score:%f\"%(clf.score(X_train,y_train)))\n",
    "        print(\"Testing score:%f\"%(clf.score(X_test,y_test)))"
   ]
  },
  {
   "cell_type": "markdown",
   "metadata": {},
   "source": [
    "# 测试 DecisionTreeClassifier 的预测性能随 max_depth 参数的影响"
   ]
  },
  {
   "cell_type": "code",
   "execution_count": 12,
   "metadata": {
    "collapsed": true
   },
   "outputs": [],
   "source": [
    "def test_DecisionTreeClassifier_depth(*data,maxdepth):\n",
    "    '''\n",
    "    测试 DecisionTreeClassifier 的预测性能随 max_depth 参数的影响\n",
    "\n",
    "    :param data:  可变参数。它是一个元组，这里要求其元素依次为：训练样本集、测试样本集、训练样本的标记、测试样本的标记\n",
    "    :param maxdepth: 一个整数，用于 DecisionTreeClassifier 的 max_depth 参数\n",
    "    :return:  None\n",
    "    '''\n",
    "    X_train,X_test,y_train,y_test=data\n",
    "    depths=np.arange(1,maxdepth)\n",
    "    training_scores=[]\n",
    "    testing_scores=[]\n",
    "    for depth in depths:\n",
    "        clf = DecisionTreeClassifier(max_depth=depth)\n",
    "        clf.fit(X_train, y_train)\n",
    "        training_scores.append(clf.score(X_train,y_train))\n",
    "        testing_scores.append(clf.score(X_test,y_test))\n",
    "\n",
    "    ## 绘图\n",
    "    fig=plt.figure()\n",
    "    ax=fig.add_subplot(1,1,1)\n",
    "    ax.plot(depths,training_scores,label=\"traing score\",marker='o')\n",
    "    ax.plot(depths,testing_scores,label=\"testing score\",marker='*')\n",
    "    ax.set_xlabel(\"maxdepth\")\n",
    "    ax.set_ylabel(\"score\")\n",
    "    ax.set_title(\"Decision Tree Classification\")\n",
    "    ax.legend(framealpha=0.5,loc='best')\n",
    "    plt.show()"
   ]
  },
  {
   "cell_type": "markdown",
   "metadata": {},
   "source": [
    "# 产生用于分类问题的数据集"
   ]
  },
  {
   "cell_type": "code",
   "execution_count": 21,
   "metadata": {},
   "outputs": [],
   "source": [
    "if __name__=='__main__':\n",
    "    X_train,X_test,y_train,y_test=load_data() "
   ]
  },
  {
   "cell_type": "markdown",
   "metadata": {},
   "source": [
    "# 调用 test_DecisionTreeClassifier"
   ]
  },
  {
   "cell_type": "code",
   "execution_count": 22,
   "metadata": {},
   "outputs": [
    {
     "name": "stdout",
     "output_type": "stream",
     "text": [
      "Training score:1.000000\n",
      "Testing score:0.947368\n"
     ]
    }
   ],
   "source": [
    "test_DecisionTreeClassifier(X_train,X_test,y_train,y_test) "
   ]
  },
  {
   "cell_type": "markdown",
   "metadata": {},
   "source": [
    "# 调用 test_DecisionTreeClassifier_criterion"
   ]
  },
  {
   "cell_type": "code",
   "execution_count": 23,
   "metadata": {},
   "outputs": [
    {
     "name": "stdout",
     "output_type": "stream",
     "text": [
      "criterion:gini\n",
      "Training score:1.000000\n",
      "Testing score:0.973684\n",
      "criterion:entropy\n",
      "Training score:1.000000\n",
      "Testing score:0.921053\n"
     ]
    }
   ],
   "source": [
    "test_DecisionTreeClassifier_criterion(X_train,X_test,y_train,y_test) "
   ]
  },
  {
   "cell_type": "markdown",
   "metadata": {},
   "source": [
    "# 调用 test_DecisionTreeClassifier_splitter"
   ]
  },
  {
   "cell_type": "code",
   "execution_count": 24,
   "metadata": {},
   "outputs": [
    {
     "name": "stdout",
     "output_type": "stream",
     "text": [
      "splitter:best\n",
      "Training score:1.000000\n",
      "Testing score:0.973684\n",
      "splitter:random\n",
      "Training score:1.000000\n",
      "Testing score:0.973684\n"
     ]
    }
   ],
   "source": [
    "test_DecisionTreeClassifier_splitter(X_train,X_test,y_train,y_test) "
   ]
  },
  {
   "cell_type": "markdown",
   "metadata": {},
   "source": [
    "# 调用 test_DecisionTreeClassifier_depth"
   ]
  },
  {
   "cell_type": "code",
   "execution_count": 25,
   "metadata": {},
   "outputs": [
    {
     "data": {
      "image/png": "[encoded data removed]",
      "text/plain": [
       "<matplotlib.figure.Figure at 0xcf3990>"
      ]
     },
     "metadata": {},
     "output_type": "display_data"
    }
   ],
   "source": [
    "test_DecisionTreeClassifier_depth(X_train,X_test,y_train,y_test,maxdepth=100) "
   ]
  },
  {
   "cell_type": "markdown",
   "metadata": {},
   "source": [
    "# ②决策树 DecisionTreeRegressor"
   ]
  },
  {
   "cell_type": "code",
   "execution_count": 32,
   "metadata": {
    "collapsed": true
   },
   "outputs": [],
   "source": [
    "import numpy as np\n",
    "from sklearn.tree import DecisionTreeRegressor\n",
    "from sklearn import cross_validation\n",
    "import matplotlib.pyplot as plt"
   ]
  },
  {
   "cell_type": "markdown",
   "metadata": {},
   "source": [
    "# 产生用于回归问题的数据集"
   ]
  },
  {
   "cell_type": "code",
   "execution_count": 33,
   "metadata": {
    "collapsed": true
   },
   "outputs": [],
   "source": [
    "def creat_data(n):\n",
    "    '''\n",
    "    产生用于回归问题的数据集\n",
    "\n",
    "    :param n:  数据集容量\n",
    "    :return: 返回一个元组，元素依次为：训练样本集、测试样本集、训练样本集对应的值、测试样本集对应的值\n",
    "    '''\n",
    "    np.random.seed(0)\n",
    "    X = 5 * np.random.rand(n, 1)\n",
    "    y = np.sin(X).ravel()\n",
    "    noise_num=(int)(n/5)\n",
    "    y[::5] += 3 * (0.5 - np.random.rand(noise_num)) # 每第5个样本，就在该样本的值上添加噪音\n",
    "    return cross_validation.train_test_split(X, y,\n",
    "\t\ttest_size=0.25,random_state=1) # 拆分原始数据集为训练集和测试集，其中测试集大小为元素数据集大小的 1/4"
   ]
  },
  {
   "cell_type": "markdown",
   "metadata": {},
   "source": [
    "# 测试 DecisionTreeRegressor 的用法"
   ]
  },
  {
   "cell_type": "code",
   "execution_count": 34,
   "metadata": {
    "collapsed": true
   },
   "outputs": [],
   "source": [
    "def test_DecisionTreeRegressor(*data):\n",
    "    '''\n",
    "    测试 DecisionTreeRegressor 的用法\n",
    "\n",
    "    :param data: 可变参数。它是一个元组，这里要求其元素依次为：训练样本集、测试样本集、训练样本的值、测试样本的值\n",
    "    :return: None\n",
    "    '''\n",
    "    X_train,X_test,y_train,y_test=data\n",
    "    regr = DecisionTreeRegressor()\n",
    "    regr.fit(X_train, y_train)\n",
    "    print(\"Training score:%f\"%(regr.score(X_train,y_train)))\n",
    "    print(\"Testing score:%f\"%(regr.score(X_test,y_test)))\n",
    "    ##绘图\n",
    "    fig=plt.figure()\n",
    "    ax=fig.add_subplot(1,1,1)\n",
    "    X = np.arange(0.0, 5.0, 0.01)[:, np.newaxis]\n",
    "    Y = regr.predict(X)\n",
    "    ax.scatter(X_train, y_train, label=\"train sample\",c='g')\n",
    "    ax.scatter(X_test, y_test, label=\"test sample\",c='r')\n",
    "    ax.plot(X, Y, label=\"predict_value\", linewidth=2,alpha=0.5)\n",
    "    ax.set_xlabel(\"data\")\n",
    "    ax.set_ylabel(\"target\")\n",
    "    ax.set_title(\"Decision Tree Regression\")\n",
    "    ax.legend(framealpha=0.5)\n",
    "    plt.show()"
   ]
  },
  {
   "cell_type": "markdown",
   "metadata": {},
   "source": [
    "# 测试 DecisionTreeRegressor 预测性能随划分类型的影响"
   ]
  },
  {
   "cell_type": "code",
   "execution_count": 35,
   "metadata": {
    "collapsed": true
   },
   "outputs": [],
   "source": [
    "def test_DecisionTreeRegressor_splitter(*data):\n",
    "    '''\n",
    "    测试 DecisionTreeRegressor 预测性能随划分类型的影响\n",
    "\n",
    "    :param data: 可变参数。它是一个元组，这里要求其元素依次为：训练样本集、测试样本集、训练样本的值、测试样本的值\n",
    "    :return: None\n",
    "    '''\n",
    "    X_train,X_test,y_train,y_test=data\n",
    "    splitters=['best','random']\n",
    "    for splitter in splitters:\n",
    "        regr = DecisionTreeRegressor(splitter=splitter)\n",
    "        regr.fit(X_train, y_train)\n",
    "        print(\"Splitter %s\"%splitter)\n",
    "        print(\"Training score:%f\"%(regr.score(X_train,y_train)))\n",
    "        print(\"Testing score:%f\"%(regr.score(X_test,y_test)))"
   ]
  },
  {
   "cell_type": "markdown",
   "metadata": {},
   "source": [
    "# 测试 DecisionTreeRegressor 预测性能随  max_depth 的影响"
   ]
  },
  {
   "cell_type": "code",
   "execution_count": 36,
   "metadata": {
    "collapsed": true
   },
   "outputs": [],
   "source": [
    "def test_DecisionTreeRegressor_depth(*data,maxdepth):\n",
    "    '''\n",
    "    测试 DecisionTreeRegressor 预测性能随  max_depth 的影响\n",
    "\n",
    "    :param data:  可变参数。它是一个元组，这里要求其元素依次为：训练样本集、测试样本集、训练样本的值、测试样本的值\n",
    "    :param maxdepth: 一个整数，它作为 DecisionTreeRegressor 的 max_depth 参数\n",
    "    :return: None\n",
    "    '''\n",
    "    X_train,X_test,y_train,y_test=data\n",
    "    depths=np.arange(1,maxdepth)\n",
    "    training_scores=[]\n",
    "    testing_scores=[]\n",
    "    for depth in depths:\n",
    "        regr = DecisionTreeRegressor(max_depth=depth)\n",
    "        regr.fit(X_train, y_train)\n",
    "        training_scores.append(regr.score(X_train,y_train))\n",
    "        testing_scores.append(regr.score(X_test,y_test))\n",
    "\n",
    "    ## 绘图\n",
    "    fig=plt.figure()\n",
    "    ax=fig.add_subplot(1,1,1)\n",
    "    ax.plot(depths,training_scores,label=\"traing score\")\n",
    "    ax.plot(depths,testing_scores,label=\"testing score\")\n",
    "    ax.set_xlabel(\"maxdepth\")\n",
    "    ax.set_ylabel(\"score\")\n",
    "    ax.set_title(\"Decision Tree Regression\")\n",
    "    ax.legend(framealpha=0.5)\n",
    "    plt.show()"
   ]
  },
  {
   "cell_type": "markdown",
   "metadata": {},
   "source": [
    "# 产生用于回归问题的数据集"
   ]
  },
  {
   "cell_type": "code",
   "execution_count": 37,
   "metadata": {
    "collapsed": true
   },
   "outputs": [],
   "source": [
    "if __name__=='__main__':\n",
    "    X_train,X_test,y_train,y_test=creat_data(100) \n",
    "    "
   ]
  },
  {
   "cell_type": "markdown",
   "metadata": {},
   "source": [
    "# 调用 test_DecisionTreeRegressor"
   ]
  },
  {
   "cell_type": "code",
   "execution_count": 38,
   "metadata": {},
   "outputs": [
    {
     "name": "stdout",
     "output_type": "stream",
     "text": [
      "Training score:1.000000\n",
      "Testing score:0.789107\n"
     ]
    },
    {
     "data": {
      "image/png": "[encoded data removed]",
      "text/plain": [
       "<matplotlib.figure.Figure at 0xd6aef0>"
      ]
     },
     "metadata": {},
     "output_type": "display_data"
    }
   ],
   "source": [
    "test_DecisionTreeRegressor(X_train,X_test,y_train,y_test) \n",
    "    "
   ]
  },
  {
   "cell_type": "markdown",
   "metadata": {},
   "source": [
    "# 调用 test_DecisionTreeRegressor_splitter"
   ]
  },
  {
   "cell_type": "code",
   "execution_count": 39,
   "metadata": {},
   "outputs": [
    {
     "name": "stdout",
     "output_type": "stream",
     "text": [
      "Splitter best\n",
      "Training score:1.000000\n",
      "Testing score:0.789107\n",
      "Splitter random\n",
      "Training score:1.000000\n",
      "Testing score:0.641796\n"
     ]
    }
   ],
   "source": [
    "test_DecisionTreeRegressor_splitter(X_train,X_test,y_train,y_test) \n",
    "    "
   ]
  },
  {
   "cell_type": "markdown",
   "metadata": {},
   "source": [
    "# 调用 test_DecisionTreeRegressor_depth"
   ]
  },
  {
   "cell_type": "code",
   "execution_count": 40,
   "metadata": {},
   "outputs": [
    {
     "data": {
      "image/png": "[encoded data removed]",
      "text/plain": [
       "<matplotlib.figure.Figure at 0xd3b4d0>"
      ]
     },
     "metadata": {},
     "output_type": "display_data"
    }
   ],
   "source": [
    "test_DecisionTreeRegressor_depth(X_train,X_test,y_train,y_test,maxdepth=20) "
   ]
  },
  {
   "cell_type": "code",
   "execution_count": null,
   "metadata": {
    "collapsed": true
   },
   "outputs": [],
   "source": []
  }
 ],
 "metadata": {
  "kernelspec": {
   "display_name": "Python 3",
   "language": "python",
   "name": "python3"
  },
  "language_info": {
   "codemirror_mode": {
    "name": "ipython",
    "version": 3
   },
   "file_extension": ".py",
   "mimetype": "text/x-python",
   "name": "python",
   "nbconvert_exporter": "python",
   "pygments_lexer": "ipython3",
   "version": "3.6.3"
  }
 },
 "nbformat": 4,
 "nbformat_minor": 2
}
