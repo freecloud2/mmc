{
 "cells": [
  {
   "cell_type": "code",
   "execution_count": 36,
   "metadata": {
    "collapsed": true
   },
   "outputs": [],
   "source": [
    "from sklearn import datasets,cross_validation,naive_bayes\n",
    "import  matplotlib.pyplot as plt\n",
    "##以下函数从隔壁调用\n",
    "##from .gaussianNB import test_GaussianNB\n",
    "##from .multinomialNB import test_MultinomialNB,test_MultinomialNB_alpha\n",
    "##from .bernoulliNB import test_BernoulliNB,test_BernoulliNB_alpha,test_BernoulliNB_binarize"
   ]
  },
  {
   "cell_type": "markdown",
   "metadata": {},
   "source": [
    "# 定义相关函数"
   ]
  },
  {
   "cell_type": "code",
   "execution_count": 27,
   "metadata": {
    "collapsed": true
   },
   "outputs": [],
   "source": [
    "def load_data():\n",
    "    '''\n",
    "    加载用于分类问题的数据集。这里使用 scikit-learn 自带的 digits 数据集\n",
    "\n",
    "    :return: 一个元组，用于分类问题。元组元素依次为：训练样本集、测试样本集、训练样本集对应的标记、测试样本集对应的标记\n",
    "    '''\n",
    "    digits=datasets.load_digits() # 加载 scikit-learn 自带的 digits 数据集\n",
    "    return cross_validation.train_test_split(digits.data,digits.target,\n",
    "\t\ttest_size=0.25,random_state=0,stratify=digits.target) #分层采样拆分成训练集和测试集，测试集大小为原始数据集大小的 1/4"
   ]
  },
  {
   "cell_type": "code",
   "execution_count": 28,
   "metadata": {
    "collapsed": true
   },
   "outputs": [],
   "source": [
    "def show_digits():\n",
    "    '''\n",
    "    绘制 digits 数据集。这里只是绘制数据集中前 25 个样本的图片。\n",
    "\n",
    "    :return: None\n",
    "    '''\n",
    "    digits=datasets.load_digits()\n",
    "    fig=plt.figure()\n",
    "    print(\"vector from images 0:\",digits.data[0])\n",
    "    for i in range(25):\n",
    "        ax=fig.add_subplot(5,5,i+1)\n",
    "        ax.imshow(digits.images[i],cmap=plt.cm.gray_r, interpolation='nearest')\n",
    "    plt.show()"
   ]
  },
  {
   "cell_type": "code",
   "execution_count": 29,
   "metadata": {
    "collapsed": true
   },
   "outputs": [],
   "source": [
    "#%%\n",
    "from sklearn import naive_bayes\n",
    "#%%\n",
    "def test_GaussianNB(*data):\n",
    "    '''\n",
    "    测试 GaussianNB 的用法\n",
    "\n",
    "    :param data: 可变参数。它是一个元组，这里要求其元素依次为：训练样本集、测试样本集、训练样本的标记、测试样本的标记\n",
    "    :return: None\n",
    "    '''\n",
    "    X_train,X_test,y_train,y_test=data\n",
    "    cls=naive_bayes.GaussianNB()\n",
    "    cls.fit(X_train,y_train)\n",
    "    print('Training Score: %.2f' % cls.score(X_train,y_train))\n",
    "    print('Testing Score: %.2f' % cls.score(X_test, y_test))"
   ]
  },
  {
   "cell_type": "code",
   "execution_count": 30,
   "metadata": {
    "collapsed": true
   },
   "outputs": [],
   "source": [
    "if __name__=='__main__':\n",
    "     # 产生用于分类问题的数据集\n",
    "    X_train,X_test,y_train,y_test=load_data()"
   ]
  },
  {
   "cell_type": "code",
   "execution_count": 31,
   "metadata": {},
   "outputs": [
    {
     "name": "stdout",
     "output_type": "stream",
     "text": [
      "Training Score: 0.85\n",
      "Testing Score: 0.84\n"
     ]
    }
   ],
   "source": [
    "# 调用 test_GaussianNB# 调用 test_GaussianNB\n",
    "test_GaussianNB(X_train,X_test,y_train,y_test)"
   ]
  },
  {
   "cell_type": "code",
   "execution_count": 32,
   "metadata": {
    "collapsed": true
   },
   "outputs": [],
   "source": [
    "from sklearn import naive_bayes\n",
    "import  numpy as np\n",
    "import  matplotlib.pyplot as plt\n",
    "#%%\n",
    "def test_MultinomialNB(*data):\n",
    "    '''\n",
    "    测试 MultinomialNB 的用法\n",
    "\n",
    "    :param data: 可变参数。它是一个元组，这里要求其元素依次为：训练样本集、测试样本集、训练样本的标记、测试样本的标记\n",
    "    :return: None\n",
    "    '''\n",
    "    X_train,X_test,y_train,y_test=data\n",
    "    cls=naive_bayes.MultinomialNB()\n",
    "    cls.fit(X_train,y_train)\n",
    "    print('Training Score: %.2f' % cls.score(X_train,y_train))\n",
    "    print('Testing Score: %.2f' % cls.score(X_test, y_test))\n",
    "def test_MultinomialNB_alpha(*data):\n",
    "    '''\n",
    "    测试 MultinomialNB 的预测性能随 alpha 参数的影响\n",
    "\n",
    "    :param data: 可变参数。它是一个元组，这里要求其元素依次为：训练样本集、测试样本集、训练样本的标记、测试样本的标记\n",
    "    :return: None\n",
    "    '''\n",
    "    X_train,X_test,y_train,y_test=data\n",
    "    alphas=np.logspace(-2,5,num=200)\n",
    "    train_scores=[]\n",
    "    test_scores=[]\n",
    "    for alpha in alphas:\n",
    "        cls=naive_bayes.MultinomialNB(alpha=alpha)\n",
    "        cls.fit(X_train,y_train)\n",
    "        train_scores.append(cls.score(X_train,y_train))\n",
    "        test_scores.append(cls.score(X_test, y_test))\n",
    "\n",
    "    ## 绘图\n",
    "    fig=plt.figure()\n",
    "    ax=fig.add_subplot(1,1,1)\n",
    "    ax.plot(alphas,train_scores,label=\"Training Score\")\n",
    "    ax.plot(alphas,test_scores,label=\"Testing Score\")\n",
    "    ax.set_xlabel(r\"$\\alpha$\")\n",
    "    ax.set_ylabel(\"score\")\n",
    "    ax.set_ylim(0,1.0)\n",
    "    ax.set_title(\"MultinomialNB\")\n",
    "    ax.set_xscale(\"log\")\n",
    "    plt.show()"
   ]
  },
  {
   "cell_type": "code",
   "execution_count": 33,
   "metadata": {},
   "outputs": [
    {
     "name": "stdout",
     "output_type": "stream",
     "text": [
      "Training Score: 0.91\n",
      "Testing Score: 0.90\n"
     ]
    }
   ],
   "source": [
    "test_MultinomialNB(X_train,X_test,y_train,y_test) "
   ]
  },
  {
   "cell_type": "code",
   "execution_count": 37,
   "metadata": {},
   "outputs": [
    {
     "data": {
      "image/png": "[encoded data removed]",
      "text/plain": [
       "<matplotlib.figure.Figure at 0x71f7610>"
      ]
     },
     "metadata": {},
     "output_type": "display_data"
    }
   ],
   "source": [
    "test_MultinomialNB_alpha(X_train,X_test,y_train,y_test)"
   ]
  },
  {
   "cell_type": "code",
   "execution_count": 38,
   "metadata": {},
   "outputs": [
    {
     "name": "stdout",
     "output_type": "stream",
     "text": [
      "Training Score: 0.87\n",
      "Testing Score: 0.87\n"
     ]
    }
   ],
   "source": [
    "test_BernoulliNB(X_train,X_test,y_train,y_test)"
   ]
  },
  {
   "cell_type": "code",
   "execution_count": 34,
   "metadata": {},
   "outputs": [
    {
     "data": {
      "image/png": "[encoded data removed]",
      "text/plain": [
       "<matplotlib.figure.Figure at 0x1207e10>"
      ]
     },
     "metadata": {},
     "output_type": "display_data"
    }
   ],
   "source": [
    "test_BernoulliNB_alpha(X_train,X_test,y_train,y_test)"
   ]
  },
  {
   "cell_type": "code",
   "execution_count": 35,
   "metadata": {},
   "outputs": [
    {
     "data": {
      "image/png": "[encoded data removed]",
      "text/plain": [
       "<matplotlib.figure.Figure at 0x197c6b0>"
      ]
     },
     "metadata": {},
     "output_type": "display_data"
    }
   ],
   "source": [
    "test_BernoulliNB_binarize(X_train,X_test,y_train,y_test) "
   ]
  },
  {
   "cell_type": "code",
   "execution_count": null,
   "metadata": {
    "collapsed": true
   },
   "outputs": [],
   "source": []
  }
 ],
 "metadata": {
  "kernelspec": {
   "display_name": "Python 3",
   "language": "python",
   "name": "python3"
  },
  "language_info": {
   "codemirror_mode": {
    "name": "ipython",
    "version": 3
   },
   "file_extension": ".py",
   "mimetype": "text/x-python",
   "name": "python",
   "nbconvert_exporter": "python",
   "pygments_lexer": "ipython3",
   "version": "3.6.3"
  }
 },
 "nbformat": 4,
 "nbformat_minor": 2
}
