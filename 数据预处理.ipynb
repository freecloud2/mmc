{
 "cells": [
  {
   "cell_type": "markdown",
   "metadata": {},
   "source": [
    "# ① 数据预处理 二元化"
   ]
  },
  {
   "cell_type": "code",
   "execution_count": 1,
   "metadata": {
    "collapsed": true
   },
   "outputs": [],
   "source": [
    "from sklearn.preprocessing import Binarizer\n"
   ]
  },
  {
   "cell_type": "markdown",
   "metadata": {},
   "source": [
    "# 测试 Binarizer 的用法"
   ]
  },
  {
   "cell_type": "code",
   "execution_count": 2,
   "metadata": {
    "collapsed": true
   },
   "outputs": [],
   "source": [
    "def test_Binarizer():\n",
    "    '''\n",
    "    测试 Binarizer 的用法\n",
    "\n",
    "    :return: None\n",
    "    '''\n",
    "    X=[   [1,2,3,4,5],\n",
    "          [5,4,3,2,1],\n",
    "          [3,3,3,3,3,],\n",
    "          [1,1,1,1,1] ]\n",
    "    print(\"before transform:\",X)\n",
    "    binarizer=Binarizer(threshold=2.5)\n",
    "    print(\"after transform:\",binarizer.transform(X))"
   ]
  },
  {
   "cell_type": "markdown",
   "metadata": {},
   "source": [
    "# 调用 test_Binarizer"
   ]
  },
  {
   "cell_type": "code",
   "execution_count": 3,
   "metadata": {},
   "outputs": [
    {
     "name": "stdout",
     "output_type": "stream",
     "text": [
      "before transform: [[1, 2, 3, 4, 5], [5, 4, 3, 2, 1], [3, 3, 3, 3, 3], [1, 1, 1, 1, 1]]\n",
      "after transform: [[0 0 1 1 1]\n",
      " [1 1 1 0 0]\n",
      " [1 1 1 1 1]\n",
      " [0 0 0 0 0]]\n"
     ]
    }
   ],
   "source": [
    "if __name__=='__main__':\n",
    "    test_Binarizer() "
   ]
  },
  {
   "cell_type": "markdown",
   "metadata": {},
   "source": [
    "# ② 数据预处理 字典学习"
   ]
  },
  {
   "cell_type": "code",
   "execution_count": 4,
   "metadata": {
    "collapsed": true
   },
   "outputs": [],
   "source": [
    "from sklearn.decomposition import DictionaryLearning"
   ]
  },
  {
   "cell_type": "markdown",
   "metadata": {},
   "source": [
    "# 测试 DictionaryLearning 的用法"
   ]
  },
  {
   "cell_type": "code",
   "execution_count": 5,
   "metadata": {
    "collapsed": true
   },
   "outputs": [],
   "source": [
    "def test_DictionaryLearning():\n",
    "    '''\n",
    "    测试 DictionaryLearning 的用法\n",
    "\n",
    "    :return: None\n",
    "    '''\n",
    "    X=[[1,2,3,4,5],\n",
    "       [6,7,8,9,10],\n",
    "       [10,9,8,7,6,],\n",
    "       [5,4,3,2,1] ]\n",
    "    print(\"before transform:\",X)\n",
    "    dct=DictionaryLearning(n_components=3)\n",
    "    dct.fit(X)\n",
    "    print(\"components is :\",dct.components_)\n",
    "    print(\"after transform:\",dct.transform(X))\n"
   ]
  },
  {
   "cell_type": "markdown",
   "metadata": {},
   "source": [
    "# 调用 test_DictionaryLearning"
   ]
  },
  {
   "cell_type": "code",
   "execution_count": 6,
   "metadata": {},
   "outputs": [
    {
     "name": "stdout",
     "output_type": "stream",
     "text": [
      "before transform: [[1, 2, 3, 4, 5], [6, 7, 8, 9, 10], [10, 9, 8, 7, 6], [5, 4, 3, 2, 1]]\n",
      "components is : [[ -4.47213595e-01  -4.47213595e-01  -4.47213595e-01  -4.47213595e-01\n",
      "   -4.47213595e-01]\n",
      " [ -6.32455532e-01  -3.16227766e-01   2.41124693e-16   3.16227766e-01\n",
      "    6.32455532e-01]\n",
      " [ -2.56238477e-01  -1.57949545e-01   1.93228062e-01  -8.87594974e-01\n",
      "   -2.90227261e-01]]\n",
      "after transform: [[ -6.70820393   0.           0.        ]\n",
      " [-17.88854382   0.           0.        ]\n",
      " [-17.88854382   0.           0.        ]\n",
      " [ -6.70820393   0.           0.        ]]\n"
     ]
    }
   ],
   "source": [
    "if __name__=='__main__':\n",
    "    test_DictionaryLearning() "
   ]
  },
  {
   "cell_type": "markdown",
   "metadata": {},
   "source": [
    "# ③ 数据预处理 包裹式特征选择"
   ]
  },
  {
   "cell_type": "code",
   "execution_count": 7,
   "metadata": {},
   "outputs": [
    {
     "name": "stderr",
     "output_type": "stream",
     "text": [
      "E:\\Data_analysis_plan\\python_36_install\\lib\\site-packages\\sklearn\\cross_validation.py:41: DeprecationWarning: This module was deprecated in version 0.18 in favor of the model_selection module into which all the refactored classes and functions are moved. Also note that the interface of the new CV iterators are different from that of this module. This module will be removed in 0.20.\n",
      "  \"This module will be removed in 0.20.\", DeprecationWarning)\n"
     ]
    }
   ],
   "source": [
    "from sklearn.feature_selection import  RFE,RFECV\n",
    "from sklearn.svm import LinearSVC\n",
    "from sklearn.datasets import  load_iris\n",
    "from  sklearn import  cross_validation"
   ]
  },
  {
   "cell_type": "markdown",
   "metadata": {},
   "source": [
    "# 测试 RFE 的用法，其中目标特征数量为 2"
   ]
  },
  {
   "cell_type": "code",
   "execution_count": 8,
   "metadata": {
    "collapsed": true
   },
   "outputs": [],
   "source": [
    "def test_RFE():\n",
    "    '''\n",
    "    测试 RFE 的用法，其中目标特征数量为 2\n",
    "\n",
    "    :return: None\n",
    "    '''\n",
    "    iris=load_iris()\n",
    "    X=iris.data\n",
    "    y=iris.target\n",
    "    estimator=LinearSVC()\n",
    "    selector=RFE(estimator=estimator,n_features_to_select=2)\n",
    "    selector.fit(X,y)\n",
    "    print(\"N_features %s\"%selector.n_features_)\n",
    "    print(\"Support is %s\"%selector.support_)\n",
    "    print(\"Ranking %s\"%selector.ranking_)"
   ]
  },
  {
   "cell_type": "markdown",
   "metadata": {},
   "source": [
    "# 测试 RFECV 的用法"
   ]
  },
  {
   "cell_type": "code",
   "execution_count": 9,
   "metadata": {
    "collapsed": true
   },
   "outputs": [],
   "source": [
    "def test_RFECV():\n",
    "    '''\n",
    "    测试 RFECV 的用法\n",
    "\n",
    "    :return:  None\n",
    "    '''\n",
    "    iris=load_iris()\n",
    "    X=iris.data\n",
    "    y=iris.target\n",
    "    estimator=LinearSVC()\n",
    "    selector=RFECV(estimator=estimator,cv=3)\n",
    "    selector.fit(X,y)\n",
    "    print(\"N_features %s\"%selector.n_features_)\n",
    "    print(\"Support is %s\"%selector.support_)\n",
    "    print(\"Ranking %s\"%selector.ranking_)\n",
    "    print(\"Grid Scores %s\"%selector.grid_scores_)"
   ]
  },
  {
   "cell_type": "markdown",
   "metadata": {},
   "source": [
    "# 比较经过特征选择和未经特征选择的数据集，对 LinearSVC 的预测性能的区别"
   ]
  },
  {
   "cell_type": "code",
   "execution_count": 10,
   "metadata": {
    "collapsed": true
   },
   "outputs": [],
   "source": [
    "def test_compare_with_no_feature_selection():\n",
    "    '''\n",
    "    比较经过特征选择和未经特征选择的数据集，对 LinearSVC 的预测性能的区别\n",
    "\n",
    "    :return: None\n",
    "    '''\n",
    "    ### 加载数据\n",
    "    iris=load_iris()\n",
    "    X,y=iris.data,iris.target\n",
    "    ### 特征提取\n",
    "    estimator=LinearSVC()\n",
    "    selector=RFE(estimator=estimator,n_features_to_select=2)\n",
    "    X_t=selector.fit_transform(X,y)\n",
    "    #### 切分测试集与验证集\n",
    "    X_train,X_test,y_train,y_test=cross_validation.train_test_split(X, y,\n",
    "                test_size=0.25,random_state=0,stratify=y)\n",
    "    X_train_t,X_test_t,y_train_t,y_test_t=cross_validation.train_test_split(X_t, y,\n",
    "                test_size=0.25,random_state=0,stratify=y)\n",
    "    ### 测试与验证\n",
    "    clf=LinearSVC()\n",
    "    clf_t=LinearSVC()\n",
    "    clf.fit(X_train,y_train)\n",
    "    clf_t.fit(X_train_t,y_train_t)\n",
    "    print(\"Original DataSet: test score=%s\"%(clf.score(X_test,y_test)))\n",
    "    print(\"Selected DataSet: test score=%s\"%(clf_t.score(X_test_t,y_test_t)))"
   ]
  },
  {
   "cell_type": "markdown",
   "metadata": {},
   "source": [
    "# 调用 test_RFE"
   ]
  },
  {
   "cell_type": "code",
   "execution_count": 11,
   "metadata": {},
   "outputs": [
    {
     "name": "stdout",
     "output_type": "stream",
     "text": [
      "N_features 2\n",
      "Support is [False  True False  True]\n",
      "Ranking [3 1 2 1]\n"
     ]
    }
   ],
   "source": [
    "if __name__=='__main__':\n",
    "    test_RFE() "
   ]
  },
  {
   "cell_type": "markdown",
   "metadata": {},
   "source": [
    "# 调用 test_compare_with_no_feature_selection"
   ]
  },
  {
   "cell_type": "code",
   "execution_count": 12,
   "metadata": {},
   "outputs": [
    {
     "name": "stdout",
     "output_type": "stream",
     "text": [
      "Original DataSet: test score=0.973684210526\n",
      "Selected DataSet: test score=0.947368421053\n"
     ]
    }
   ],
   "source": [
    "test_compare_with_no_feature_selection() "
   ]
  },
  {
   "cell_type": "markdown",
   "metadata": {},
   "source": [
    "# 调用 test_RFECV"
   ]
  },
  {
   "cell_type": "code",
   "execution_count": 13,
   "metadata": {},
   "outputs": [
    {
     "name": "stdout",
     "output_type": "stream",
     "text": [
      "N_features 4\n",
      "Support is [ True  True  True  True]\n",
      "Ranking [1 1 1 1]\n",
      "Grid Scores [ 0.91421569  0.94689542  0.95383987  0.96691176]\n"
     ]
    }
   ],
   "source": [
    "test_RFECV() "
   ]
  },
  {
   "cell_type": "markdown",
   "metadata": {},
   "source": [
    "# ④ 数据预处理 嵌入式特征选择"
   ]
  },
  {
   "cell_type": "code",
   "execution_count": 14,
   "metadata": {
    "collapsed": true
   },
   "outputs": [],
   "source": [
    "from sklearn.feature_selection import  SelectFromModel\n",
    "from sklearn.svm import LinearSVC\n",
    "from sklearn.datasets import  load_digits,load_diabetes\n",
    "import numpy as np\n",
    "import  matplotlib.pyplot as plt\n",
    "from sklearn.linear_model import Lasso"
   ]
  },
  {
   "cell_type": "markdown",
   "metadata": {},
   "source": [
    "# 测试 SelectFromModel 的用法"
   ]
  },
  {
   "cell_type": "code",
   "execution_count": 15,
   "metadata": {
    "collapsed": true
   },
   "outputs": [],
   "source": [
    "def test_SelectFromModel():\n",
    "    '''\n",
    "    测试 SelectFromModel 的用法。\n",
    "\n",
    "    :return: None\n",
    "    '''\n",
    "    digits=load_digits()\n",
    "    X=digits.data\n",
    "    y=digits.target\n",
    "    estimator=LinearSVC(penalty='l1',dual=False)\n",
    "    selector=SelectFromModel(estimator=estimator,threshold='mean')\n",
    "    selector.fit(X,y)\n",
    "    selector.transform(X)\n",
    "    print(\"Threshold %s\"%selector.threshold_)\n",
    "    print(\"Support is %s\"%selector.get_support(indices=True))"
   ]
  },
  {
   "cell_type": "markdown",
   "metadata": {},
   "source": [
    "# 测试 alpha 与稀疏性的关系"
   ]
  },
  {
   "cell_type": "code",
   "execution_count": 23,
   "metadata": {
    "collapsed": true
   },
   "outputs": [],
   "source": [
    "def test_Lasso(*data):\n",
    "    '''\n",
    "    测试 alpha 与稀疏性的关系\n",
    "\n",
    "    :param data: 可变参数。它是一个元组，这里要求其元素依次为：训练样本集、测试样本集、训练样本的值、测试样本的值\n",
    "    :return: None\n",
    "    '''\n",
    "    X,y=data\n",
    "    alphas=np.logspace(-2,2)\n",
    "    zeros=[]\n",
    "    for alpha in alphas:\n",
    "        regr=Lasso(alpha=alpha)\n",
    "        regr.fit(X,y)\n",
    "        ### 计算零的个数 ###\n",
    "        num=0\n",
    "        for ele in regr.coef_:\n",
    "            if abs(ele) < 1e-5:num+=1\n",
    "        zeros.append(num)\n",
    "    ##### 绘图\n",
    "    fig=plt.figure(figsize=(10,8),dpi=80)\n",
    "    ax=fig.add_subplot(1,1,1)\n",
    "    ax.plot(alphas,zeros)\n",
    "    ax.set_xlabel(r\"$\\alpha$\")\n",
    "    ax.set_xscale(\"log\")\n",
    "    ax.set_ylim(0,X.shape[1]+1)\n",
    "    ax.set_ylabel(\"zeros in coef\")\n",
    "    ax.set_title(\"Sparsity In Lasso\")\n",
    "    plt.show()"
   ]
  },
  {
   "cell_type": "markdown",
   "metadata": {},
   "source": [
    "# 测试 C  与 稀疏性的关系"
   ]
  },
  {
   "cell_type": "code",
   "execution_count": 24,
   "metadata": {
    "collapsed": true
   },
   "outputs": [],
   "source": [
    "def test_LinearSVC(*data):\n",
    "    '''\n",
    "    测试 C  与 稀疏性的关系\n",
    "\n",
    "    :param data: 可变参数。它是一个元组，这里要求其元素依次为：训练样本集、测试样本集、训练样本的标记、测试样本的标记\n",
    "    :return: None\n",
    "    '''\n",
    "    X,y=data\n",
    "    Cs=np.logspace(-2,2)\n",
    "    zeros=[]\n",
    "    for C in Cs:\n",
    "        clf=LinearSVC(C=C,penalty='l1',dual=False)\n",
    "        clf.fit(X,y)\n",
    "         ### 计算零的个数 ###\n",
    "        num=0\n",
    "        for row in clf.coef_:\n",
    "            for ele in row:\n",
    "                if abs(ele) < 1e-5:num+=1\n",
    "        zeros.append(num)\n",
    "    ##### 绘图\n",
    "    fig=plt.figure(figsize=(10,8),dpi=80)\n",
    "    ax=fig.add_subplot(1,1,1)\n",
    "    ax.plot(Cs,zeros)\n",
    "    ax.set_xlabel(\"C\")\n",
    "    ax.set_xscale(\"log\")\n",
    "    ax.set_ylabel(\"zeros in coef\")\n",
    "    ax.set_title(\"Sparsity In SVM\")\n",
    "    plt.show()"
   ]
  },
  {
   "cell_type": "markdown",
   "metadata": {},
   "source": [
    "# 调用 test_SelectFromModel"
   ]
  },
  {
   "cell_type": "code",
   "execution_count": 18,
   "metadata": {},
   "outputs": [
    {
     "name": "stdout",
     "output_type": "stream",
     "text": [
      "Threshold 0.703504042989\n",
      "Support is [ 2  3  4  5  6  9 12 13 14 16 18 19 20 21 22 24 27 30 33 36 38 41 42 43 44\n",
      " 45 53 54 55 58 61]\n"
     ]
    }
   ],
   "source": [
    "if __name__=='__main__':\n",
    "    test_SelectFromModel() "
   ]
  },
  {
   "cell_type": "markdown",
   "metadata": {},
   "source": [
    "# 生成用于回归问题的数据集"
   ]
  },
  {
   "cell_type": "code",
   "execution_count": 19,
   "metadata": {
    "collapsed": true
   },
   "outputs": [],
   "source": [
    "data=load_diabetes() "
   ]
  },
  {
   "cell_type": "markdown",
   "metadata": {},
   "source": [
    "# 调用 test_Lasso"
   ]
  },
  {
   "cell_type": "code",
   "execution_count": 25,
   "metadata": {},
   "outputs": [
    {
     "data": {
      "image/png": "[encoded data removed]",
      "text/plain": [
       "<matplotlib.figure.Figure at 0xa61ab10>"
      ]
     },
     "metadata": {},
     "output_type": "display_data"
    }
   ],
   "source": [
    "test_Lasso(data.data,data.target) "
   ]
  },
  {
   "cell_type": "markdown",
   "metadata": {},
   "source": [
    "# 生成用于分类问题的数据集"
   ]
  },
  {
   "cell_type": "code",
   "execution_count": 26,
   "metadata": {
    "collapsed": true
   },
   "outputs": [],
   "source": [
    "data=load_digits() "
   ]
  },
  {
   "cell_type": "markdown",
   "metadata": {},
   "source": [
    "# 调用 test_LinearSVC"
   ]
  },
  {
   "cell_type": "code",
   "execution_count": 27,
   "metadata": {},
   "outputs": [
    {
     "data": {
      "image/png": "[encoded data removed]",
      "text/plain": [
       "<matplotlib.figure.Figure at 0xc60bcd0>"
      ]
     },
     "metadata": {},
     "output_type": "display_data"
    }
   ],
   "source": [
    "test_LinearSVC(data.data,data.target) "
   ]
  },
  {
   "cell_type": "markdown",
   "metadata": {},
   "source": [
    "# ⑤ 数据预处理 过滤式特征选择"
   ]
  },
  {
   "cell_type": "code",
   "execution_count": 28,
   "metadata": {
    "collapsed": true
   },
   "outputs": [],
   "source": [
    "from sklearn.feature_selection import  VarianceThreshold,SelectKBest,f_classif"
   ]
  },
  {
   "cell_type": "markdown",
   "metadata": {},
   "source": [
    "# 测试 VarianceThreshold  的用法"
   ]
  },
  {
   "cell_type": "code",
   "execution_count": 29,
   "metadata": {
    "collapsed": true
   },
   "outputs": [],
   "source": [
    "def test_VarianceThreshold():\n",
    "    '''\n",
    "    测试 VarianceThreshold  的用法\n",
    "\n",
    "    :return:  None\n",
    "    '''\n",
    "    X=[[100,1,2,3],\n",
    "       [100,4,5,6],\n",
    "       [100,7,8,9],\n",
    "       [101,11,12,13]]\n",
    "    selector=VarianceThreshold(1)\n",
    "    selector.fit(X)\n",
    "    print(\"Variances is %s\"%selector.variances_)\n",
    "    print(\"After transform is %s\"%selector.transform(X))\n",
    "    print(\"The surport is %s\"%selector.get_support(True))\n",
    "    print(\"After reverse transform is %s\"%\n",
    "            selector.inverse_transform(selector.transform(X)))"
   ]
  },
  {
   "cell_type": "markdown",
   "metadata": {},
   "source": [
    "# 测试 SelectKBest  的用法，其中考察的特征指标是 f_classif"
   ]
  },
  {
   "cell_type": "code",
   "execution_count": 30,
   "metadata": {
    "collapsed": true
   },
   "outputs": [],
   "source": [
    "def test_SelectKBest():\n",
    "    '''\n",
    "    测试 SelectKBest  的用法，其中考察的特征指标是 f_classif\n",
    "\n",
    "    :return:  None\n",
    "    '''\n",
    "    X=[   [1,2,3,4,5],\n",
    "          [5,4,3,2,1],\n",
    "          [3,3,3,3,3,],\n",
    "          [1,1,1,1,1] ]\n",
    "    y=[0,1,0,1]\n",
    "    print(\"before transform:\",X)\n",
    "    selector=SelectKBest(score_func=f_classif,k=3)\n",
    "    selector.fit(X,y)\n",
    "    print(\"scores_:\",selector.scores_)\n",
    "    print(\"pvalues_:\",selector.pvalues_)\n",
    "    print(\"selected index:\",selector.get_support(True))\n",
    "    print(\"after transform:\",selector.transform(X))"
   ]
  },
  {
   "cell_type": "code",
   "execution_count": 31,
   "metadata": {
    "collapsed": true
   },
   "outputs": [],
   "source": [
    "# 调用 test_VarianceThreshold"
   ]
  },
  {
   "cell_type": "code",
   "execution_count": 32,
   "metadata": {},
   "outputs": [
    {
     "name": "stdout",
     "output_type": "stream",
     "text": [
      "Variances is [  0.1875  13.6875  13.6875  13.6875]\n",
      "After transform is [[ 1  2  3]\n",
      " [ 4  5  6]\n",
      " [ 7  8  9]\n",
      " [11 12 13]]\n",
      "The surport is [1 2 3]\n",
      "After reverse transform is [[ 0  1  2  3]\n",
      " [ 0  4  5  6]\n",
      " [ 0  7  8  9]\n",
      " [ 0 11 12 13]]\n"
     ]
    }
   ],
   "source": [
    "if __name__=='__main__':\n",
    "    test_VarianceThreshold() "
   ]
  },
  {
   "cell_type": "markdown",
   "metadata": {},
   "source": [
    "# 调用 test_SelectKBest"
   ]
  },
  {
   "cell_type": "code",
   "execution_count": 34,
   "metadata": {},
   "outputs": [
    {
     "name": "stdout",
     "output_type": "stream",
     "text": [
      "before transform: [[1, 2, 3, 4, 5], [5, 4, 3, 2, 1], [3, 3, 3, 3, 3], [1, 1, 1, 1, 1]]\n",
      "scores_: [ 0.2  0.   1.   8.   9. ]\n",
      "pvalues_: [ 0.69848865  1.          0.42264974  0.10557281  0.09546597]\n",
      "selected index: [2 3 4]\n",
      "after transform: [[3 4 5]\n",
      " [3 2 1]\n",
      " [3 3 3]\n",
      " [1 1 1]]\n"
     ]
    }
   ],
   "source": [
    "test_SelectKBest() "
   ]
  },
  {
   "cell_type": "markdown",
   "metadata": {},
   "source": [
    "# ⑥ 数据预处理 数据正则化"
   ]
  },
  {
   "cell_type": "code",
   "execution_count": 35,
   "metadata": {
    "collapsed": true
   },
   "outputs": [],
   "source": [
    "from sklearn.preprocessing import Normalizer"
   ]
  },
  {
   "cell_type": "markdown",
   "metadata": {},
   "source": [
    "# 测试 Normalizer 的用法"
   ]
  },
  {
   "cell_type": "code",
   "execution_count": 36,
   "metadata": {
    "collapsed": true
   },
   "outputs": [],
   "source": [
    "def test_Normalizer():\n",
    "    '''\n",
    "    测试 Normalizer 的用法\n",
    "\n",
    "    :return: None\n",
    "    '''\n",
    "    X=[   [1,2,3,4,5],\n",
    "          [5,4,3,2,1],\n",
    "          [1,3,5,2,4,],\n",
    "          [2,4,1,3,5] ]\n",
    "    print(\"before transform:\",X)\n",
    "    normalizer=Normalizer(norm='l2')\n",
    "    print(\"after transform:\",normalizer.transform(X))"
   ]
  },
  {
   "cell_type": "markdown",
   "metadata": {},
   "source": [
    "# 调用 test_Normalizer"
   ]
  },
  {
   "cell_type": "code",
   "execution_count": 37,
   "metadata": {},
   "outputs": [
    {
     "name": "stdout",
     "output_type": "stream",
     "text": [
      "before transform: [[1, 2, 3, 4, 5], [5, 4, 3, 2, 1], [1, 3, 5, 2, 4], [2, 4, 1, 3, 5]]\n",
      "after transform: [[ 0.13483997  0.26967994  0.40451992  0.53935989  0.67419986]\n",
      " [ 0.67419986  0.53935989  0.40451992  0.26967994  0.13483997]\n",
      " [ 0.13483997  0.40451992  0.67419986  0.26967994  0.53935989]\n",
      " [ 0.26967994  0.53935989  0.13483997  0.40451992  0.67419986]]\n"
     ]
    }
   ],
   "source": [
    "if __name__=='__main__':\n",
    "    test_Normalizer() "
   ]
  },
  {
   "cell_type": "markdown",
   "metadata": {},
   "source": [
    "# ⑦ 数据预处理 独热码编码"
   ]
  },
  {
   "cell_type": "markdown",
   "metadata": {},
   "source": [
    "# 测试 OneHotEncoder 的用法"
   ]
  },
  {
   "cell_type": "code",
   "execution_count": 39,
   "metadata": {
    "collapsed": true
   },
   "outputs": [],
   "source": [
    "from sklearn.preprocessing import OneHotEncoder"
   ]
  },
  {
   "cell_type": "code",
   "execution_count": 40,
   "metadata": {
    "collapsed": true
   },
   "outputs": [],
   "source": [
    "def test_OneHotEncoder():\n",
    "    '''\n",
    "    测试 OneHotEncoder 的用法\n",
    "\n",
    "    :return: None\n",
    "    '''\n",
    "    X=[   [1,2,3,4,5],\n",
    "          [5,4,3,2,1],\n",
    "          [3,3,3,3,3,],\n",
    "          [1,1,1,1,1] ]\n",
    "    print(\"before transform:\",X)\n",
    "    encoder=OneHotEncoder(sparse=False)\n",
    "    encoder.fit(X)\n",
    "    print(\"active_features_:\",encoder.active_features_)\n",
    "    print(\"feature_indices_:\",encoder.feature_indices_)\n",
    "    print(\"n_values_:\",encoder.n_values_)\n",
    "    print(\"after transform:\",encoder.transform( [[1,2,3,4,5]]))"
   ]
  },
  {
   "cell_type": "markdown",
   "metadata": {},
   "source": [
    "# 调用 test_OneHotEncoder"
   ]
  },
  {
   "cell_type": "code",
   "execution_count": 41,
   "metadata": {},
   "outputs": [
    {
     "name": "stdout",
     "output_type": "stream",
     "text": [
      "before transform: [[1, 2, 3, 4, 5], [5, 4, 3, 2, 1], [3, 3, 3, 3, 3], [1, 1, 1, 1, 1]]\n",
      "active_features_: [ 1  3  5  7  8  9 10 12 14 16 17 18 19 21 23 25]\n",
      "feature_indices_: [ 0  6 11 15 20 26]\n",
      "n_values_: [6 5 4 5 6]\n",
      "after transform: [[ 1.  0.  0.  0.  1.  0.  0.  0.  1.  0.  0.  0.  1.  0.  0.  1.]]\n"
     ]
    }
   ],
   "source": [
    "if __name__=='__main__':\n",
    "    test_OneHotEncoder() "
   ]
  },
  {
   "cell_type": "markdown",
   "metadata": {},
   "source": [
    "# ⑧ 数据预处理 流水线"
   ]
  },
  {
   "cell_type": "code",
   "execution_count": 56,
   "metadata": {
    "collapsed": true
   },
   "outputs": [],
   "source": [
    "from sklearn.svm import  LinearSVC\n",
    "from sklearn.datasets import  load_digits\n",
    "from sklearn import  cross_validation\n",
    "from sklearn.linear_model import LogisticRegression\n",
    "from sklearn.pipeline import Pipeline"
   ]
  },
  {
   "cell_type": "markdown",
   "metadata": {},
   "source": [
    "# 测试 Pipeline 的用法"
   ]
  },
  {
   "cell_type": "code",
   "execution_count": 59,
   "metadata": {
    "collapsed": true
   },
   "outputs": [],
   "source": [
    "def test_Pipeline(data):\n",
    "    '''\n",
    "    测试 Pipeline 的用法\n",
    "\n",
    "    :param data:  一个元组，这里要求其元素依次为：训练样本集、测试样本集、训练样本的标记、测试样本的标记\n",
    "    :return: None\n",
    "    '''\n",
    "    X_train,X_test,y_train,y_test=data\n",
    "    steps=[(\"Linear_SVM\",LinearSVC(C=1,penalty='l1',dual=False)),\n",
    "           (\"LogisticRegression\",LogisticRegression(C=1))]\n",
    "    pipeline=Pipeline(steps)\n",
    "    pipeline.fit(X_train,y_train)\n",
    "    print(\"Named steps:\",pipeline.named_steps)\n",
    "    print(\"Pipeline Score:\",pipeline.score(X_test,y_test))"
   ]
  },
  {
   "cell_type": "markdown",
   "metadata": {},
   "source": [
    "# 生成用于分类问题的数据集"
   ]
  },
  {
   "cell_type": "code",
   "execution_count": 60,
   "metadata": {
    "collapsed": true
   },
   "outputs": [],
   "source": [
    "if __name__=='__main__':\n",
    "    data=load_digits() \n",
    "    #%%\n",
    "    X=data.data\n",
    "    #%%\n",
    "    y=data.target\n",
    "    #%%\n",
    "    Data=cross_validation.train_test_split(X, y,test_size=0.25,random_state=0,stratify=y) "
   ]
  },
  {
   "cell_type": "markdown",
   "metadata": {},
   "source": [
    "# 调用 test_Pipeline运行错误"
   ]
  },
  {
   "cell_type": "code",
   "execution_count": null,
   "metadata": {},
   "outputs": [],
   "source": [
    "test_Pipeline(Data)"
   ]
  },
  {
   "cell_type": "markdown",
   "metadata": {},
   "source": [
    "# ⑨ 数据预处理 数据标准化"
   ]
  },
  {
   "cell_type": "markdown",
   "metadata": {},
   "source": [
    "# 测试 MinMaxScaler 的用法"
   ]
  },
  {
   "cell_type": "code",
   "execution_count": 49,
   "metadata": {
    "collapsed": true
   },
   "outputs": [],
   "source": [
    "from sklearn.preprocessing import MinMaxScaler,MaxAbsScaler,StandardScaler"
   ]
  },
  {
   "cell_type": "markdown",
   "metadata": {},
   "source": [
    "# 测试 MinMaxScaler 的用法"
   ]
  },
  {
   "cell_type": "code",
   "execution_count": 50,
   "metadata": {
    "collapsed": true
   },
   "outputs": [],
   "source": [
    "def test_MinMaxScaler():\n",
    "    '''\n",
    "    测试 MinMaxScaler 的用法\n",
    "\n",
    "    :return: None\n",
    "    '''\n",
    "    X=[   [1,5,1,2,10],\n",
    "      [2,6,3,2,7],\n",
    "      [3,7,5,6,4,],\n",
    "      [4,8,7,8,1] ]\n",
    "    print(\"before transform:\",X)\n",
    "    scaler=MinMaxScaler(feature_range=(0,2))\n",
    "    scaler.fit(X)\n",
    "    print(\"min_ is :\",scaler.min_)\n",
    "    print(\"scale_ is :\",scaler.scale_)\n",
    "    print(\"data_max_ is :\",scaler.data_max_)\n",
    "    print(\"data_min_ is :\",scaler.data_min_)\n",
    "    print(\"data_range_ is :\",scaler.data_range_)\n",
    "    print(\"after transform:\",scaler.transform(X))"
   ]
  },
  {
   "cell_type": "markdown",
   "metadata": {},
   "source": [
    "# 测试 MaxAbsScaler 的用法"
   ]
  },
  {
   "cell_type": "code",
   "execution_count": 51,
   "metadata": {
    "collapsed": true
   },
   "outputs": [],
   "source": [
    "def test_MaxAbsScaler():\n",
    "    '''\n",
    "    测试 MaxAbsScaler 的用法\n",
    "\n",
    "    :return: None\n",
    "    '''\n",
    "    X=[   [1,5,1,2,10],\n",
    "      [2,6,3,2,7],\n",
    "      [3,7,5,6,4,],\n",
    "      [4,8,7,8,1] ]\n",
    "    print(\"before transform:\",X)\n",
    "    scaler=MaxAbsScaler()\n",
    "    scaler.fit(X)\n",
    "    print(\"scale_ is :\",scaler.scale_)\n",
    "    print(\"max_abs_ is :\",scaler.max_abs_)\n",
    "    print(\"after transform:\",scaler.transform(X))"
   ]
  },
  {
   "cell_type": "markdown",
   "metadata": {},
   "source": [
    "# 测试 StandardScaler 的用法"
   ]
  },
  {
   "cell_type": "code",
   "execution_count": 52,
   "metadata": {
    "collapsed": true
   },
   "outputs": [],
   "source": [
    "def test_StandardScaler():\n",
    "    '''\n",
    "    测试 StandardScaler 的用法\n",
    "\n",
    "    :return: None\n",
    "    '''\n",
    "    X=[   [1,5,1,2,10],\n",
    "      [2,6,3,2,7],\n",
    "      [3,7,5,6,4,],\n",
    "      [4,8,7,8,1] ]\n",
    "    print(\"before transform:\",X)\n",
    "    scaler=StandardScaler()\n",
    "    scaler.fit(X)\n",
    "    print(\"scale_ is :\",scaler.scale_)\n",
    "    print(\"mean_ is :\",scaler.mean_)\n",
    "    print(\"var_ is :\",scaler.var_)\n",
    "    print(\"after transform:\",scaler.transform(X))"
   ]
  },
  {
   "cell_type": "markdown",
   "metadata": {},
   "source": [
    "# 调用 test_MinMaxScaler"
   ]
  },
  {
   "cell_type": "code",
   "execution_count": 53,
   "metadata": {},
   "outputs": [
    {
     "name": "stdout",
     "output_type": "stream",
     "text": [
      "before transform: [[1, 5, 1, 2, 10], [2, 6, 3, 2, 7], [3, 7, 5, 6, 4], [4, 8, 7, 8, 1]]\n",
      "min_ is : [-0.66666667 -3.33333333 -0.33333333 -0.66666667 -0.22222222]\n",
      "scale_ is : [ 0.66666667  0.66666667  0.33333333  0.33333333  0.22222222]\n",
      "data_max_ is : [  4.   8.   7.   8.  10.]\n",
      "data_min_ is : [ 1.  5.  1.  2.  1.]\n",
      "data_range_ is : [ 3.  3.  6.  6.  9.]\n",
      "after transform: [[ 0.          0.          0.          0.          2.        ]\n",
      " [ 0.66666667  0.66666667  0.66666667  0.          1.33333333]\n",
      " [ 1.33333333  1.33333333  1.33333333  1.33333333  0.66666667]\n",
      " [ 2.          2.          2.          2.          0.        ]]\n"
     ]
    }
   ],
   "source": [
    "if __name__=='__main__':\n",
    "    test_MinMaxScaler()  "
   ]
  },
  {
   "cell_type": "markdown",
   "metadata": {},
   "source": [
    "# 调用 test_MaxAbsScaler "
   ]
  },
  {
   "cell_type": "code",
   "execution_count": 54,
   "metadata": {},
   "outputs": [
    {
     "name": "stdout",
     "output_type": "stream",
     "text": [
      "before transform: [[1, 5, 1, 2, 10], [2, 6, 3, 2, 7], [3, 7, 5, 6, 4], [4, 8, 7, 8, 1]]\n",
      "scale_ is : [  4.   8.   7.   8.  10.]\n",
      "max_abs_ is : [  4.   8.   7.   8.  10.]\n",
      "after transform: [[ 0.25        0.625       0.14285714  0.25        1.        ]\n",
      " [ 0.5         0.75        0.42857143  0.25        0.7       ]\n",
      " [ 0.75        0.875       0.71428571  0.75        0.4       ]\n",
      " [ 1.          1.          1.          1.          0.1       ]]\n"
     ]
    }
   ],
   "source": [
    "test_MaxAbsScaler()    "
   ]
  },
  {
   "cell_type": "markdown",
   "metadata": {},
   "source": [
    "# 调用 test_MaxAbsScaler"
   ]
  },
  {
   "cell_type": "code",
   "execution_count": 55,
   "metadata": {},
   "outputs": [
    {
     "name": "stdout",
     "output_type": "stream",
     "text": [
      "before transform: [[1, 5, 1, 2, 10], [2, 6, 3, 2, 7], [3, 7, 5, 6, 4], [4, 8, 7, 8, 1]]\n",
      "scale_ is : [  4.   8.   7.   8.  10.]\n",
      "max_abs_ is : [  4.   8.   7.   8.  10.]\n",
      "after transform: [[ 0.25        0.625       0.14285714  0.25        1.        ]\n",
      " [ 0.5         0.75        0.42857143  0.25        0.7       ]\n",
      " [ 0.75        0.875       0.71428571  0.75        0.4       ]\n",
      " [ 1.          1.          1.          1.          0.1       ]]\n"
     ]
    }
   ],
   "source": [
    "test_MaxAbsScaler()  "
   ]
  },
  {
   "cell_type": "code",
   "execution_count": null,
   "metadata": {
    "collapsed": true
   },
   "outputs": [],
   "source": []
  }
 ],
 "metadata": {
  "kernelspec": {
   "display_name": "Python 3",
   "language": "python",
   "name": "python3"
  },
  "language_info": {
   "codemirror_mode": {
    "name": "ipython",
    "version": 3
   },
   "file_extension": ".py",
   "mimetype": "text/x-python",
   "name": "python",
   "nbconvert_exporter": "python",
   "pygments_lexer": "ipython3",
   "version": "3.6.3"
  }
 },
 "nbformat": 4,
 "nbformat_minor": 2
}
