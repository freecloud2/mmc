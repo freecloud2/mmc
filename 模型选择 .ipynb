{
 "cells": [
  {
   "cell_type": "markdown",
   "metadata": {},
   "source": [
    "# ①模型选择 分类问题性能度量"
   ]
  },
  {
   "cell_type": "code",
   "execution_count": 3,
   "metadata": {
    "collapsed": true
   },
   "outputs": [],
   "source": [
    "from sklearn.metrics import accuracy_score,precision_score,recall_score,f1_score\\\n",
    "    ,fbeta_score,classification_report,confusion_matrix,precision_recall_curve,roc_auc_score\\\n",
    "    ,roc_curve\n",
    "from sklearn.datasets import load_iris\n",
    "from sklearn.multiclass import OneVsRestClassifier\n",
    "from sklearn.svm import  SVC\n",
    "from sklearn.model_selection import train_test_split\n",
    "import  matplotlib.pyplot as plt\n",
    "from sklearn.preprocessing import label_binarize\n",
    "import  numpy as np"
   ]
  },
  {
   "cell_type": "markdown",
   "metadata": {},
   "source": [
    "# 测试 accuracy_score 的用法"
   ]
  },
  {
   "cell_type": "code",
   "execution_count": 6,
   "metadata": {
    "collapsed": true
   },
   "outputs": [],
   "source": [
    "#%%\n",
    "def test_accuracy_score():\n",
    "    '''\n",
    "    测试 accuracy_score 的用法\n",
    "\n",
    "    :return: None\n",
    "    '''\n",
    "    y_true=[1,1,1,1,1,0,0,0,0,0]\n",
    "    y_pred=[0,0,1,1,0,0,1,1,0,0]\n",
    "    print('Accuracy Score(normalize=True):',accuracy_score(y_true,y_pred,normalize=True))\n",
    "    print('Accuracy Score(normalize=False):',accuracy_score(y_true,y_pred,normalize=False))"
   ]
  },
  {
   "cell_type": "markdown",
   "metadata": {},
   "source": [
    "# 测试 precision_score 的用法"
   ]
  },
  {
   "cell_type": "code",
   "execution_count": 7,
   "metadata": {
    "collapsed": true
   },
   "outputs": [],
   "source": [
    "def test_precision_score():\n",
    "    '''\n",
    "    测试 precision_score 的用法\n",
    "\n",
    "    :return:  None\n",
    "    '''\n",
    "    y_true=[1,1,1,1,1,0,0,0,0,0]\n",
    "    y_pred=[0,0,1,1,0,0,0,0,0,0]\n",
    "    print('Accuracy Score:',accuracy_score(y_true,y_pred,normalize=True))\n",
    "    print('Precision Score:',precision_score(y_true,y_pred))\n"
   ]
  },
  {
   "cell_type": "markdown",
   "metadata": {},
   "source": [
    "# 测试 recall_score 的用法"
   ]
  },
  {
   "cell_type": "code",
   "execution_count": 8,
   "metadata": {
    "collapsed": true
   },
   "outputs": [],
   "source": [
    "def test_recall_score():\n",
    "    '''\n",
    "    测试 recall_score 的用法\n",
    "\n",
    "    :return:  None\n",
    "    '''\n",
    "    y_true=[1,1,1,1,1,0,0,0,0,0]\n",
    "    y_pred=[0,0,1,1,0,0,0,0,0,0]\n",
    "    print('Accuracy Score:',accuracy_score(y_true,y_pred,normalize=True))\n",
    "    print('Precision Score:',precision_score(y_true,y_pred))\n",
    "    print('Recall Score:',recall_score(y_true,y_pred))\n"
   ]
  },
  {
   "cell_type": "markdown",
   "metadata": {},
   "source": [
    "# 测试 f1_score 的用法"
   ]
  },
  {
   "cell_type": "code",
   "execution_count": 9,
   "metadata": {
    "collapsed": true
   },
   "outputs": [],
   "source": [
    "def test_f1_score():\n",
    "    '''\n",
    "    测试 f1_score 的用法\n",
    "\n",
    "    :return: None\n",
    "    '''\n",
    "    y_true=[1,1,1,1,1,0,0,0,0,0]\n",
    "    y_pred=[0,0,1,1,0,0,0,0,0,0]\n",
    "    print('Accuracy Score:',accuracy_score(y_true,y_pred,normalize=True))\n",
    "    print('Precision Score:',precision_score(y_true,y_pred))\n",
    "    print('Recall Score:',recall_score(y_true,y_pred))\n",
    "    print('F1 Score:',f1_score(y_true,y_pred))\n"
   ]
  },
  {
   "cell_type": "markdown",
   "metadata": {},
   "source": [
    "# 测试 fbeta_score 的用法"
   ]
  },
  {
   "cell_type": "code",
   "execution_count": 10,
   "metadata": {
    "collapsed": true
   },
   "outputs": [],
   "source": [
    "def test_fbeta_score():\n",
    "    '''\n",
    "    测试 fbeta_score 的用法\n",
    "\n",
    "    :return: None\n",
    "    '''\n",
    "    y_true=[1,1,1,1,1,0,0,0,0,0]\n",
    "    y_pred=[0,0,1,1,0,0,0,0,0,0]\n",
    "    print('Accuracy Score:',accuracy_score(y_true,y_pred,normalize=True))\n",
    "    print('Precision Score:',precision_score(y_true,y_pred))\n",
    "    print('Recall Score:',recall_score(y_true,y_pred))\n",
    "    print('F1 Score:',f1_score(y_true,y_pred))\n",
    "    print('Fbeta Score(beta=0.001):',fbeta_score(y_true,y_pred,beta=0.001))\n",
    "    print('Fbeta Score(beta=1):',fbeta_score(y_true,y_pred,beta=1))\n",
    "    print('Fbeta Score(beta=10):',fbeta_score(y_true,y_pred,beta=10))\n",
    "    print('Fbeta Score(beta=10000):',fbeta_score(y_true,y_pred,beta=10000))\n"
   ]
  },
  {
   "cell_type": "markdown",
   "metadata": {},
   "source": [
    "# 测试 classification_report 的用法"
   ]
  },
  {
   "cell_type": "code",
   "execution_count": 11,
   "metadata": {
    "collapsed": true
   },
   "outputs": [],
   "source": [
    "def test_classification_report():\n",
    "    '''\n",
    "    测试 classification_report 的用法\n",
    "\n",
    "    :return:  None\n",
    "    '''\n",
    "    y_true=[1,1,1,1,1,0,0,0,0,0]\n",
    "    y_pred=[0,0,1,1,0,0,0,0,0,0]\n",
    "    print('Classification Report:\\n',classification_report(y_true,y_pred,\n",
    "                target_names=[\"class_0\",\"class_1\"]))\n"
   ]
  },
  {
   "cell_type": "markdown",
   "metadata": {},
   "source": [
    "# 测试 confusion_matrix 的用法"
   ]
  },
  {
   "cell_type": "code",
   "execution_count": 12,
   "metadata": {
    "collapsed": true
   },
   "outputs": [],
   "source": [
    "def test_confusion_matrix():\n",
    "    '''\n",
    "    测试 confusion_matrix 的用法\n",
    "\n",
    "    :return: None\n",
    "    '''\n",
    "    y_true=[1,1,1,1,1,0,0,0,0,0]\n",
    "    y_pred=[0,0,1,1,0,0,0,0,0,0]\n",
    "    print('Confusion Matrix:\\n',confusion_matrix(y_true,y_pred,labels=[0,1]))\n"
   ]
  },
  {
   "cell_type": "markdown",
   "metadata": {},
   "source": [
    "# 测试 precision_recall_curve 的用法，并绘制 P-R 曲线"
   ]
  },
  {
   "cell_type": "code",
   "execution_count": 71,
   "metadata": {
    "collapsed": true
   },
   "outputs": [],
   "source": [
    "def test_precision_recall_curve():\n",
    "    '''\n",
    "    测试 precision_recall_curve 的用法，并绘制 P-R 曲线\n",
    "\n",
    "    :return: None\n",
    "    '''\n",
    "    ### 加载数据\n",
    "    iris=load_iris()\n",
    "    X=iris.data\n",
    "    y=iris.target\n",
    "    # 二元化标记\n",
    "    y = label_binarize(y, classes=[0, 1, 2])\n",
    "    n_classes = y.shape[1]\n",
    "    #### 添加噪音\n",
    "    np.random.seed(0)\n",
    "    n_samples, n_features = X.shape\n",
    "    X = np.c_[X, np.random.randn(n_samples, 200 * n_features)]\n",
    "\n",
    "    X_train,X_test,y_train,y_test=train_test_split(X,y,\n",
    "            test_size=0.5,random_state=0)\n",
    "    ### 训练模型\n",
    "    clf=OneVsRestClassifier(SVC(kernel='linear', probability=True,random_state=0))\n",
    "    clf.fit(X_train,y_train)\n",
    "    y_score = clf.fit(X_train, y_train).decision_function(X_test)\n",
    "    ### 获取 P-R\n",
    "    fig=plt.figure()\n",
    "    ax=fig.add_subplot(1,1,1)\n",
    "    precision = dict()\n",
    "    recall = dict()\n",
    "    for i in range(n_classes):\n",
    "        precision[i], recall[i], _ = precision_recall_curve(y_test[:, i],\n",
    "                                                            y_score[:, i])\n",
    "        ax.plot(recall[i],precision[i],label=\"target=%s\"%i)\n",
    "    ax.set_xlabel(\"Recall Score\")\n",
    "    ax.set_ylabel(\"Precision Score\")\n",
    "    ax.set_title(\"P-R\")\n",
    "    ax.legend(loc='best')\n",
    "    ax.set_xlim(0,1.1)\n",
    "    ax.set_ylim(0,1.1)\n",
    "    ax.grid()\n",
    "    plt.show()"
   ]
  },
  {
   "cell_type": "markdown",
   "metadata": {},
   "source": [
    "# 测试 roc_curve、roc_auc_score 的用法，并绘制 ROC 曲线"
   ]
  },
  {
   "cell_type": "code",
   "execution_count": 72,
   "metadata": {
    "collapsed": true
   },
   "outputs": [],
   "source": [
    "def test_roc_auc_score():\n",
    "    '''\n",
    "    测试 roc_curve、roc_auc_score 的用法，并绘制 ROC 曲线\n",
    "\n",
    "    :return: None\n",
    "    '''\n",
    "    ### 加载数据\n",
    "    iris=load_iris()\n",
    "    X=iris.data\n",
    "    y=iris.target\n",
    "    # 二元化标记\n",
    "    y = label_binarize(y, classes=[0, 1, 2])\n",
    "    n_classes = y.shape[1]\n",
    "    #### 添加噪音\n",
    "    np.random.seed(0)\n",
    "    n_samples, n_features = X.shape\n",
    "    X = np.c_[X, np.random.randn(n_samples, 200 * n_features)]\n",
    "\n",
    "    X_train,X_test,y_train,y_test=train_test_split(X,y,\n",
    "            test_size=0.5,random_state=0)\n",
    "    ### 训练模型\n",
    "    clf=OneVsRestClassifier(SVC(kernel='linear', probability=True,random_state=0))\n",
    "    clf.fit(X_train,y_train)\n",
    "    y_score = clf.fit(X_train, y_train).decision_function(X_test)\n",
    "    ### 获取 ROC\n",
    "    fig=plt.figure()\n",
    "    ax=fig.add_subplot(1,1,1)\n",
    "    fpr = dict()\n",
    "    tpr = dict()\n",
    "    roc_auc=dict()\n",
    "    for i in range(n_classes):\n",
    "        fpr[i], tpr[i], _ = roc_curve(y_test[:, i],y_score[:, i])\n",
    "        roc_auc[i] = roc_auc_score(fpr[i], tpr[i])\n",
    "        ax.plot(fpr[i],tpr[i],label=\"target=%s,auc=%s\"%(i,roc_auc[i]))\n",
    "    ax.plot([0, 1], [0, 1], 'k--')\n",
    "    ax.set_xlabel(\"FPR\")\n",
    "    ax.set_ylabel(\"TPR\")\n",
    "    ax.set_title(\"ROC\")\n",
    "    ax.legend(loc=\"best\")\n",
    "    ax.set_xlim(0,1.1)\n",
    "    ax.set_ylim(0,1.1)\n",
    "    ax.grid()\n",
    "    plt.show()"
   ]
  },
  {
   "cell_type": "markdown",
   "metadata": {},
   "source": [
    "# 调用 test_accuracy_score"
   ]
  },
  {
   "cell_type": "code",
   "execution_count": 73,
   "metadata": {},
   "outputs": [
    {
     "name": "stdout",
     "output_type": "stream",
     "text": [
      "Accuracy Score(normalize=True): 0.5\n",
      "Accuracy Score(normalize=False): 5\n"
     ]
    }
   ],
   "source": [
    "if __name__=='__main__':\n",
    "    test_accuracy_score() "
   ]
  },
  {
   "cell_type": "markdown",
   "metadata": {},
   "source": [
    "# 调用 test_precision_score"
   ]
  },
  {
   "cell_type": "code",
   "execution_count": 74,
   "metadata": {},
   "outputs": [
    {
     "name": "stdout",
     "output_type": "stream",
     "text": [
      "Accuracy Score: 0.7\n",
      "Precision Score: 1.0\n"
     ]
    }
   ],
   "source": [
    "test_precision_score() "
   ]
  },
  {
   "cell_type": "markdown",
   "metadata": {},
   "source": [
    "# 调用 test_recall_score"
   ]
  },
  {
   "cell_type": "code",
   "execution_count": 75,
   "metadata": {},
   "outputs": [
    {
     "name": "stdout",
     "output_type": "stream",
     "text": [
      "Accuracy Score: 0.7\n",
      "Precision Score: 1.0\n",
      "Recall Score: 0.4\n"
     ]
    }
   ],
   "source": [
    "test_recall_score() "
   ]
  },
  {
   "cell_type": "markdown",
   "metadata": {},
   "source": [
    "# 调用 test_f1_score"
   ]
  },
  {
   "cell_type": "code",
   "execution_count": 76,
   "metadata": {},
   "outputs": [
    {
     "name": "stdout",
     "output_type": "stream",
     "text": [
      "Accuracy Score: 0.7\n",
      "Precision Score: 1.0\n",
      "Recall Score: 0.4\n",
      "F1 Score: 0.571428571429\n"
     ]
    }
   ],
   "source": [
    "test_f1_score() "
   ]
  },
  {
   "cell_type": "markdown",
   "metadata": {},
   "source": [
    "# 调用 test_fbeta_score"
   ]
  },
  {
   "cell_type": "code",
   "execution_count": 77,
   "metadata": {},
   "outputs": [
    {
     "name": "stdout",
     "output_type": "stream",
     "text": [
      "Accuracy Score: 0.7\n",
      "Precision Score: 1.0\n",
      "Recall Score: 0.4\n",
      "F1 Score: 0.571428571429\n",
      "Fbeta Score(beta=0.001): 0.999998500004\n",
      "Fbeta Score(beta=1): 0.571428571429\n",
      "Fbeta Score(beta=10): 0.402390438247\n",
      "Fbeta Score(beta=10000): 0.4000000024\n"
     ]
    }
   ],
   "source": [
    "test_fbeta_score() "
   ]
  },
  {
   "cell_type": "markdown",
   "metadata": {},
   "source": [
    "# 调用 test_classification_report"
   ]
  },
  {
   "cell_type": "code",
   "execution_count": 78,
   "metadata": {},
   "outputs": [
    {
     "name": "stdout",
     "output_type": "stream",
     "text": [
      "Classification Report:\n",
      "              precision    recall  f1-score   support\n",
      "\n",
      "    class_0       0.62      1.00      0.77         5\n",
      "    class_1       1.00      0.40      0.57         5\n",
      "\n",
      "avg / total       0.81      0.70      0.67        10\n",
      "\n"
     ]
    }
   ],
   "source": [
    "test_classification_report() "
   ]
  },
  {
   "cell_type": "markdown",
   "metadata": {},
   "source": [
    "# 调用 test_confusion_matrix"
   ]
  },
  {
   "cell_type": "code",
   "execution_count": 79,
   "metadata": {},
   "outputs": [
    {
     "name": "stdout",
     "output_type": "stream",
     "text": [
      "Confusion Matrix:\n",
      " [[5 0]\n",
      " [3 2]]\n"
     ]
    }
   ],
   "source": [
    "test_confusion_matrix() "
   ]
  },
  {
   "cell_type": "markdown",
   "metadata": {},
   "source": [
    "# 调用 test_precision_recall_curve"
   ]
  },
  {
   "cell_type": "code",
   "execution_count": 80,
   "metadata": {},
   "outputs": [
    {
     "data": {
      "image/png": "[encoded data removed]",
      "text/plain": [
       "<matplotlib.figure.Figure at 0xace88f0>"
      ]
     },
     "metadata": {},
     "output_type": "display_data"
    }
   ],
   "source": [
    "test_precision_recall_curve() "
   ]
  },
  {
   "cell_type": "markdown",
   "metadata": {},
   "source": [
    "#  调用 test_roc_auc_score(continuous format is not supported)运行错误一"
   ]
  },
  {
   "cell_type": "code",
   "execution_count": null,
   "metadata": {},
   "outputs": [],
   "source": [
    "test_roc_auc_score()"
   ]
  },
  {
   "cell_type": "markdown",
   "metadata": {},
   "source": [
    "# ②模型选择 数据集切分"
   ]
  },
  {
   "cell_type": "code",
   "execution_count": 81,
   "metadata": {
    "collapsed": true
   },
   "outputs": [],
   "source": [
    "from sklearn.model_selection import train_test_split,KFold,StratifiedKFold,LeaveOneOut\\\n",
    "            ,cross_val_score\n",
    "import  numpy as np"
   ]
  },
  {
   "cell_type": "markdown",
   "metadata": {},
   "source": [
    "# 测试  train_test_split 的用法"
   ]
  },
  {
   "cell_type": "code",
   "execution_count": 82,
   "metadata": {
    "collapsed": true
   },
   "outputs": [],
   "source": [
    "def test_train_test_split():\n",
    "    '''\n",
    "    测试  train_test_split 的用法\n",
    "\n",
    "    :return:  None\n",
    "    '''\n",
    "    X=[[1,2,3,4],\n",
    "       [11,12,13,14],\n",
    "       [21,22,23,24],\n",
    "       [31,32,33,34],\n",
    "       [41,42,43,44],\n",
    "       [51,52,53,54],\n",
    "       [61,62,63,64],\n",
    "       [71,72,73,74]]\n",
    "    y=[1,1,0,0,1,1,0,0]\n",
    "\n",
    "    X_train, X_test, y_train, y_test = train_test_split(X, y,test_size=0.4, random_state=0) # 切分，测试集大小为原始数据集大小的 40%\n",
    "    print(\"X_train=\",X_train)\n",
    "    print(\"X_test=\",X_test)\n",
    "    print(\"y_train=\",y_train)\n",
    "    print(\"y_test=\",y_test)\n",
    "    X_train, X_test, y_train, y_test = train_test_split(X, y,test_size=0.4,\n",
    "             random_state=0,stratify=y) # 分层采样切分，测试集大小为原始数据集大小的 40%\n",
    "    print(\"Stratify:X_train=\",X_train)\n",
    "    print(\"Stratify:X_test=\",X_test)\n",
    "    print(\"Stratify:y_train=\",y_train)\n",
    "    print(\"Stratify:y_test=\",y_test)"
   ]
  },
  {
   "cell_type": "markdown",
   "metadata": {},
   "source": [
    "# 测试  KFold 的用法"
   ]
  },
  {
   "cell_type": "code",
   "execution_count": 83,
   "metadata": {
    "collapsed": true
   },
   "outputs": [],
   "source": [
    "def test_KFold():\n",
    "    '''\n",
    "    测试  KFold 的用法\n",
    "\n",
    "    :return: None\n",
    "    '''\n",
    "    X=np.array([[1,2,3,4],\n",
    "       [11,12,13,14],\n",
    "       [21,22,23,24],\n",
    "       [31,32,33,34],\n",
    "       [41,42,43,44],\n",
    "       [51,52,53,54],\n",
    "       [61,62,63,64],\n",
    "       [71,72,73,74],\n",
    "       [81,82,83,84]])\n",
    "    y=np.array([1,1,0,0,1,1,0,0,1])\n",
    "\n",
    "    folder=KFold(n_splits=3,random_state=0,shuffle=False) # 切分之前不混洗数据集\n",
    "    for train_index,test_index in folder.split(X,y):\n",
    "          print(\"Train Index:\",train_index)\n",
    "          print(\"Test Index:\",test_index)\n",
    "          print(\"X_train:\",X[train_index])\n",
    "          print(\"X_test:\",X[test_index])\n",
    "          print(\"\")\n",
    "\n",
    "    shuffle_folder=KFold(n_splits=3,random_state=0,shuffle=True) # 切分之前混洗数据集\n",
    "    for train_index,test_index in shuffle_folder.split(X,y):\n",
    "          print(\"Shuffled Train Index:\",train_index)\n",
    "          print(\"Shuffled Test Index:\",test_index)\n",
    "          print(\"Shuffled X_train:\",X[train_index])\n",
    "          print(\"Shuffled X_test:\",X[test_index])\n",
    "          print(\"\")"
   ]
  },
  {
   "cell_type": "markdown",
   "metadata": {},
   "source": [
    "# 测试  StratifiedKFold 的用法"
   ]
  },
  {
   "cell_type": "code",
   "execution_count": 84,
   "metadata": {
    "collapsed": true
   },
   "outputs": [],
   "source": [
    "def test_StratifiedKFold():\n",
    "    '''\n",
    "    测试  StratifiedKFold 的用法\n",
    "\n",
    "    :return: None\n",
    "    '''\n",
    "    X=np.array([[1,2,3,4],\n",
    "       [11,12,13,14],\n",
    "       [21,22,23,24],\n",
    "       [31,32,33,34],\n",
    "       [41,42,43,44],\n",
    "       [51,52,53,54],\n",
    "       [61,62,63,64],\n",
    "       [71,72,73,74]])\n",
    "\n",
    "    y=np.array([1,1,0,0,1,1,0,0])\n",
    "\n",
    "    folder=KFold(n_splits=4,random_state=0,shuffle=False)\n",
    "    stratified_folder=StratifiedKFold(n_splits=4,random_state=0,shuffle=False)\n",
    "    for train_index,test_index in folder.split(X,y):\n",
    "          print(\"Train Index:\",train_index)\n",
    "          print(\"Test Index:\",test_index)\n",
    "          print(\"y_train:\",y[train_index])\n",
    "          print(\"y_test:\",y[test_index])\n",
    "          print(\"\")\n",
    "\n",
    "    for train_index,test_index in stratified_folder.split(X,y):\n",
    "          print(\"Stratified Train Index:\",train_index)\n",
    "          print(\"Stratified Test Index:\",test_index)\n",
    "          print(\"Stratified y_train:\",y[train_index])\n",
    "          print(\"Stratified y_test:\",y[test_index])\n",
    "          print(\"\")"
   ]
  },
  {
   "cell_type": "markdown",
   "metadata": {},
   "source": [
    "# 测试  LeaveOneOut 的用法"
   ]
  },
  {
   "cell_type": "code",
   "execution_count": 85,
   "metadata": {
    "collapsed": true
   },
   "outputs": [],
   "source": [
    "def test_LeaveOneOut():\n",
    "    '''\n",
    "    测试  LeaveOneOut 的用法\n",
    "\n",
    "    :return: None\n",
    "    '''\n",
    "    X=np.array([[1,2,3,4],\n",
    "       [11,12,13,14],\n",
    "       [21,22,23,24],\n",
    "       [31,32,33,34]]\n",
    "    )\n",
    "    y=np.array([1,1,0,0])\n",
    "\n",
    "    lo=LeaveOneOut(len(y))\n",
    "    for train_index,test_index in lo:\n",
    "          print(\"Train Index:\",train_index)\n",
    "          print(\"Test Index:\",test_index)\n",
    "          print(\"X_train:\",X[train_index])\n",
    "          print(\"X_test:\",X[test_index])\n",
    "          print(\"\")"
   ]
  },
  {
   "cell_type": "markdown",
   "metadata": {},
   "source": [
    "# 测试  cross_val_score 的用法"
   ]
  },
  {
   "cell_type": "code",
   "execution_count": 86,
   "metadata": {
    "collapsed": true
   },
   "outputs": [],
   "source": [
    "def test_cross_val_score():\n",
    "    '''\n",
    "    测试  cross_val_score 的用法\n",
    "\n",
    "    :return: None\n",
    "    '''\n",
    "    from sklearn.datasets import  load_digits\n",
    "    from sklearn.svm import  LinearSVC\n",
    "\n",
    "    digits=load_digits() # 加载用于分类问题的数据集\n",
    "    X=digits.data\n",
    "    y=digits.target\n",
    "\n",
    "    result=cross_val_score(LinearSVC(),X,y,cv=10) # 使用 LinearSVC 作为分类器\n",
    "    print(\"Cross Val Score is:\",result)"
   ]
  },
  {
   "cell_type": "markdown",
   "metadata": {},
   "source": [
    "# 调用 test_train_test_split "
   ]
  },
  {
   "cell_type": "code",
   "execution_count": 87,
   "metadata": {},
   "outputs": [
    {
     "name": "stdout",
     "output_type": "stream",
     "text": [
      "X_train= [[31, 32, 33, 34], [1, 2, 3, 4], [51, 52, 53, 54], [41, 42, 43, 44]]\n",
      "X_test= [[61, 62, 63, 64], [21, 22, 23, 24], [11, 12, 13, 14], [71, 72, 73, 74]]\n",
      "y_train= [0, 1, 1, 1]\n",
      "y_test= [0, 0, 1, 0]\n",
      "Stratify:X_train= [[41, 42, 43, 44], [61, 62, 63, 64], [1, 2, 3, 4], [71, 72, 73, 74]]\n",
      "Stratify:X_test= [[21, 22, 23, 24], [31, 32, 33, 34], [11, 12, 13, 14], [51, 52, 53, 54]]\n",
      "Stratify:y_train= [1, 0, 1, 0]\n",
      "Stratify:y_test= [0, 0, 1, 1]\n"
     ]
    }
   ],
   "source": [
    "if __name__=='__main__':\n",
    "    test_train_test_split() "
   ]
  },
  {
   "cell_type": "markdown",
   "metadata": {},
   "source": [
    "# 调用 test_KFold"
   ]
  },
  {
   "cell_type": "code",
   "execution_count": 88,
   "metadata": {},
   "outputs": [
    {
     "name": "stdout",
     "output_type": "stream",
     "text": [
      "Train Index: [3 4 5 6 7 8]\n",
      "Test Index: [0 1 2]\n",
      "X_train: [[31 32 33 34]\n",
      " [41 42 43 44]\n",
      " [51 52 53 54]\n",
      " [61 62 63 64]\n",
      " [71 72 73 74]\n",
      " [81 82 83 84]]\n",
      "X_test: [[ 1  2  3  4]\n",
      " [11 12 13 14]\n",
      " [21 22 23 24]]\n",
      "\n",
      "Train Index: [0 1 2 6 7 8]\n",
      "Test Index: [3 4 5]\n",
      "X_train: [[ 1  2  3  4]\n",
      " [11 12 13 14]\n",
      " [21 22 23 24]\n",
      " [61 62 63 64]\n",
      " [71 72 73 74]\n",
      " [81 82 83 84]]\n",
      "X_test: [[31 32 33 34]\n",
      " [41 42 43 44]\n",
      " [51 52 53 54]]\n",
      "\n",
      "Train Index: [0 1 2 3 4 5]\n",
      "Test Index: [6 7 8]\n",
      "X_train: [[ 1  2  3  4]\n",
      " [11 12 13 14]\n",
      " [21 22 23 24]\n",
      " [31 32 33 34]\n",
      " [41 42 43 44]\n",
      " [51 52 53 54]]\n",
      "X_test: [[61 62 63 64]\n",
      " [71 72 73 74]\n",
      " [81 82 83 84]]\n",
      "\n",
      "Shuffled Train Index: [0 3 4 5 6 8]\n",
      "Shuffled Test Index: [1 2 7]\n",
      "Shuffled X_train: [[ 1  2  3  4]\n",
      " [31 32 33 34]\n",
      " [41 42 43 44]\n",
      " [51 52 53 54]\n",
      " [61 62 63 64]\n",
      " [81 82 83 84]]\n",
      "Shuffled X_test: [[11 12 13 14]\n",
      " [21 22 23 24]\n",
      " [71 72 73 74]]\n",
      "\n",
      "Shuffled Train Index: [0 1 2 3 5 7]\n",
      "Shuffled Test Index: [4 6 8]\n",
      "Shuffled X_train: [[ 1  2  3  4]\n",
      " [11 12 13 14]\n",
      " [21 22 23 24]\n",
      " [31 32 33 34]\n",
      " [51 52 53 54]\n",
      " [71 72 73 74]]\n",
      "Shuffled X_test: [[41 42 43 44]\n",
      " [61 62 63 64]\n",
      " [81 82 83 84]]\n",
      "\n",
      "Shuffled Train Index: [1 2 4 6 7 8]\n",
      "Shuffled Test Index: [0 3 5]\n",
      "Shuffled X_train: [[11 12 13 14]\n",
      " [21 22 23 24]\n",
      " [41 42 43 44]\n",
      " [61 62 63 64]\n",
      " [71 72 73 74]\n",
      " [81 82 83 84]]\n",
      "Shuffled X_test: [[ 1  2  3  4]\n",
      " [31 32 33 34]\n",
      " [51 52 53 54]]\n",
      "\n"
     ]
    }
   ],
   "source": [
    "test_KFold()"
   ]
  },
  {
   "cell_type": "markdown",
   "metadata": {},
   "source": [
    "# 调用 test_StratifiedKFold 运行错误二"
   ]
  },
  {
   "cell_type": "code",
   "execution_count": 90,
   "metadata": {},
   "outputs": [
    {
     "name": "stdout",
     "output_type": "stream",
     "text": [
      "Train Index: [2 3 4 5 6 7]\n",
      "Test Index: [0 1]\n",
      "y_train: [0 0 1 1 0 0]\n",
      "y_test: [1 1]\n",
      "\n",
      "Train Index: [0 1 4 5 6 7]\n",
      "Test Index: [2 3]\n",
      "y_train: [1 1 1 1 0 0]\n",
      "y_test: [0 0]\n",
      "\n",
      "Train Index: [0 1 2 3 6 7]\n",
      "Test Index: [4 5]\n",
      "y_train: [1 1 0 0 0 0]\n",
      "y_test: [1 1]\n",
      "\n",
      "Train Index: [0 1 2 3 4 5]\n",
      "Test Index: [6 7]\n",
      "y_train: [1 1 0 0 1 1]\n",
      "y_test: [0 0]\n",
      "\n",
      "Stratified Train Index: [1 3 4 5 6 7]\n",
      "Stratified Test Index: [0 2]\n",
      "Stratified y_train: [1 0 1 1 0 0]\n",
      "Stratified y_test: [1 0]\n",
      "\n",
      "Stratified Train Index: [0 2 4 5 6 7]\n",
      "Stratified Test Index: [1 3]\n",
      "Stratified y_train: [1 0 1 1 0 0]\n",
      "Stratified y_test: [1 0]\n",
      "\n",
      "Stratified Train Index: [0 1 2 3 5 7]\n",
      "Stratified Test Index: [4 6]\n",
      "Stratified y_train: [1 1 0 0 1 0]\n",
      "Stratified y_test: [1 0]\n",
      "\n",
      "Stratified Train Index: [0 1 2 3 4 6]\n",
      "Stratified Test Index: [5 7]\n",
      "Stratified y_train: [1 1 0 0 1 0]\n",
      "Stratified y_test: [1 0]\n",
      "\n"
     ]
    }
   ],
   "source": [
    "test_StratifiedKFold()"
   ]
  },
  {
   "cell_type": "markdown",
   "metadata": {},
   "source": [
    "# 调用 test_LeaveOneOut"
   ]
  },
  {
   "cell_type": "code",
   "execution_count": null,
   "metadata": {},
   "outputs": [],
   "source": [
    "test_LeaveOneOut()"
   ]
  },
  {
   "cell_type": "markdown",
   "metadata": {},
   "source": [
    "# 调用 test_cross_val_score"
   ]
  },
  {
   "cell_type": "code",
   "execution_count": 92,
   "metadata": {},
   "outputs": [
    {
     "name": "stdout",
     "output_type": "stream",
     "text": [
      "Cross Val Score is: [ 0.8972973   0.93989071  0.87292818  0.91666667  0.9273743   0.94413408\n",
      "  0.97206704  0.94382022  0.86440678  0.92613636]\n"
     ]
    }
   ],
   "source": [
    "test_cross_val_score()"
   ]
  },
  {
   "cell_type": "markdown",
   "metadata": {},
   "source": [
    "# ③模型选择 参数优化"
   ]
  },
  {
   "cell_type": "code",
   "execution_count": 94,
   "metadata": {
    "collapsed": true
   },
   "outputs": [],
   "source": [
    "from sklearn.datasets import load_digits\n",
    "from sklearn.linear_model import  LogisticRegression\n",
    "from sklearn.model_selection import GridSearchCV,RandomizedSearchCV\n",
    "from sklearn.metrics import classification_report\n",
    "from sklearn.model_selection import train_test_split\n",
    "import scipy"
   ]
  },
  {
   "cell_type": "markdown",
   "metadata": {},
   "source": [
    "# 测试 GridSearchCV 的用法。使用 LogisticRegression 作为分类器，主要优化 C、penalty、multi_class 等参数"
   ]
  },
  {
   "cell_type": "code",
   "execution_count": 95,
   "metadata": {
    "collapsed": true
   },
   "outputs": [],
   "source": [
    "def test_GridSearchCV():\n",
    "    '''\n",
    "    测试 GridSearchCV 的用法。使用 LogisticRegression 作为分类器，主要优化 C、penalty、multi_class 等参数\n",
    "\n",
    "    :return: None\n",
    "    '''\n",
    "    ### 加载数据\n",
    "    digits = load_digits()\n",
    "    X_train,X_test,y_train,y_test=train_test_split(digits.data, digits.target,test_size=0.25,\n",
    "                random_state=0,stratify=digits.target)\n",
    "    #### 参数优化 ######\n",
    "    tuned_parameters = [{'penalty': ['l1','l2'],\n",
    "                        'C': [0.01,0.05,0.1,0.5,1,5,10,50,100],\n",
    "                        'solver':['liblinear'],\n",
    "                        'multi_class': ['ovr']},\n",
    "\n",
    "                        {'penalty': ['l2'],\n",
    "                        'C': [0.01,0.05,0.1,0.5,1,5,10,50,100],\n",
    "                         'solver':['lbfgs'],\n",
    "                        'multi_class': ['ovr','multinomial']},\n",
    "                        ]\n",
    "    clf=GridSearchCV(LogisticRegression(tol=1e-6),tuned_parameters,cv=10)\n",
    "    clf.fit(X_train,y_train)\n",
    "    print(\"Best parameters set found:\",clf.best_params_)\n",
    "    print(\"Grid scores:\")\n",
    "    for params, mean_score, scores in clf.grid_scores_:\n",
    "             print(\"\\t%0.3f (+/-%0.03f) for %s\" % (mean_score, scores.std() * 2, params))\n",
    "\n",
    "    print(\"Optimized Score:\",clf.score(X_test,y_test))\n",
    "    print(\"Detailed classification report:\")\n",
    "    y_true, y_pred = y_test, clf.predict(X_test)\n",
    "    print(classification_report(y_true, y_pred))"
   ]
  },
  {
   "cell_type": "markdown",
   "metadata": {},
   "source": [
    "# 测试 RandomizedSearchCV 的用法。使用 LogisticRegression 作为分类器，主要优化 C、multi_class 等参数。其中 C 的分布函数为指数分布"
   ]
  },
  {
   "cell_type": "code",
   "execution_count": 96,
   "metadata": {
    "collapsed": true
   },
   "outputs": [],
   "source": [
    "def test_RandomizedSearchCV():\n",
    "    '''\n",
    "    测试 RandomizedSearchCV 的用法。使用 LogisticRegression 作为分类器，主要优化 C、multi_class 等参数。其中 C 的分布函数为指数分布\n",
    "\n",
    "    :return:  None\n",
    "    '''\n",
    "    ### 加载数据\n",
    "    digits = load_digits()\n",
    "    X_train,X_test,y_train,y_test=train_test_split(digits.data, digits.target,\n",
    "                test_size=0.25,random_state=0,stratify=digits.target)\n",
    "    #### 参数优化 ######\n",
    "    tuned_parameters ={  'C': scipy.stats.expon(scale=100), # 指数分布\n",
    "                        'multi_class': ['ovr','multinomial']}\n",
    "    clf=RandomizedSearchCV(LogisticRegression(penalty='l2',solver='lbfgs',tol=1e-6),\n",
    "                        tuned_parameters,cv=10,scoring=\"accuracy\",n_iter=100)\n",
    "    clf.fit(X_train,y_train)\n",
    "    print(\"Best parameters set found:\",clf.best_params_)\n",
    "    print(\"Randomized Grid scores:\")\n",
    "    for params, mean_score, scores in clf.grid_scores_:\n",
    "             print(\"\\t%0.3f (+/-%0.03f) for %s\" % (mean_score, scores.std() * 2, params))\n",
    "\n",
    "    print(\"Optimized Score:\",clf.score(X_test,y_test))\n",
    "    print(\"Detailed classification report:\")\n",
    "    y_true, y_pred = y_test, clf.predict(X_test)\n",
    "    print(classification_report(y_true, y_pred))"
   ]
  },
  {
   "cell_type": "markdown",
   "metadata": {},
   "source": [
    "# 调用 test_GridSearchCV"
   ]
  },
  {
   "cell_type": "code",
   "execution_count": 119,
   "metadata": {},
   "outputs": [
    {
     "name": "stdout",
     "output_type": "stream",
     "text": [
      "Best parameters set found: {'C': 0.01, 'multi_class': 'multinomial', 'penalty': 'l2', 'solver': 'lbfgs'}\n",
      "Grid scores:\n",
      "\t0.930 (+/-0.031) for {'C': 0.01, 'multi_class': 'ovr', 'penalty': 'l1', 'solver': 'liblinear'}\n",
      "\t0.965 (+/-0.022) for {'C': 0.01, 'multi_class': 'ovr', 'penalty': 'l2', 'solver': 'liblinear'}\n",
      "\t0.964 (+/-0.022) for {'C': 0.05, 'multi_class': 'ovr', 'penalty': 'l1', 'solver': 'liblinear'}\n",
      "\t0.965 (+/-0.023) for {'C': 0.05, 'multi_class': 'ovr', 'penalty': 'l2', 'solver': 'liblinear'}\n",
      "\t0.965 (+/-0.024) for {'C': 0.1, 'multi_class': 'ovr', 'penalty': 'l1', 'solver': 'liblinear'}\n",
      "\t0.964 (+/-0.023) for {'C': 0.1, 'multi_class': 'ovr', 'penalty': 'l2', 'solver': 'liblinear'}\n",
      "\t0.958 (+/-0.030) for {'C': 0.5, 'multi_class': 'ovr', 'penalty': 'l1', 'solver': 'liblinear'}\n",
      "\t0.952 (+/-0.028) for {'C': 0.5, 'multi_class': 'ovr', 'penalty': 'l2', 'solver': 'liblinear'}\n",
      "\t0.951 (+/-0.025) for {'C': 1, 'multi_class': 'ovr', 'penalty': 'l1', 'solver': 'liblinear'}\n",
      "\t0.953 (+/-0.028) for {'C': 1, 'multi_class': 'ovr', 'penalty': 'l2', 'solver': 'liblinear'}\n",
      "\t0.952 (+/-0.022) for {'C': 5, 'multi_class': 'ovr', 'penalty': 'l1', 'solver': 'liblinear'}\n",
      "\t0.951 (+/-0.025) for {'C': 5, 'multi_class': 'ovr', 'penalty': 'l2', 'solver': 'liblinear'}\n",
      "\t0.950 (+/-0.020) for {'C': 10, 'multi_class': 'ovr', 'penalty': 'l1', 'solver': 'liblinear'}\n",
      "\t0.951 (+/-0.023) for {'C': 10, 'multi_class': 'ovr', 'penalty': 'l2', 'solver': 'liblinear'}\n",
      "\t0.946 (+/-0.017) for {'C': 50, 'multi_class': 'ovr', 'penalty': 'l1', 'solver': 'liblinear'}\n",
      "\t0.944 (+/-0.027) for {'C': 50, 'multi_class': 'ovr', 'penalty': 'l2', 'solver': 'liblinear'}\n",
      "\t0.944 (+/-0.017) for {'C': 100, 'multi_class': 'ovr', 'penalty': 'l1', 'solver': 'liblinear'}\n",
      "\t0.941 (+/-0.028) for {'C': 100, 'multi_class': 'ovr', 'penalty': 'l2', 'solver': 'liblinear'}\n",
      "\t0.964 (+/-0.027) for {'C': 0.01, 'multi_class': 'ovr', 'penalty': 'l2', 'solver': 'lbfgs'}\n",
      "\t0.967 (+/-0.024) for {'C': 0.01, 'multi_class': 'multinomial', 'penalty': 'l2', 'solver': 'lbfgs'}\n",
      "\t0.964 (+/-0.021) for {'C': 0.05, 'multi_class': 'ovr', 'penalty': 'l2', 'solver': 'lbfgs'}\n",
      "\t0.967 (+/-0.017) for {'C': 0.05, 'multi_class': 'multinomial', 'penalty': 'l2', 'solver': 'lbfgs'}\n",
      "\t0.964 (+/-0.022) for {'C': 0.1, 'multi_class': 'ovr', 'penalty': 'l2', 'solver': 'lbfgs'}\n",
      "\t0.964 (+/-0.023) for {'C': 0.1, 'multi_class': 'multinomial', 'penalty': 'l2', 'solver': 'lbfgs'}\n",
      "\t0.954 (+/-0.025) for {'C': 0.5, 'multi_class': 'ovr', 'penalty': 'l2', 'solver': 'lbfgs'}\n",
      "\t0.964 (+/-0.026) for {'C': 0.5, 'multi_class': 'multinomial', 'penalty': 'l2', 'solver': 'lbfgs'}\n",
      "\t0.952 (+/-0.030) for {'C': 1, 'multi_class': 'ovr', 'penalty': 'l2', 'solver': 'lbfgs'}\n",
      "\t0.963 (+/-0.021) for {'C': 1, 'multi_class': 'multinomial', 'penalty': 'l2', 'solver': 'lbfgs'}\n",
      "\t0.952 (+/-0.027) for {'C': 5, 'multi_class': 'ovr', 'penalty': 'l2', 'solver': 'lbfgs'}\n",
      "\t0.961 (+/-0.026) for {'C': 5, 'multi_class': 'multinomial', 'penalty': 'l2', 'solver': 'lbfgs'}\n",
      "\t0.949 (+/-0.032) for {'C': 10, 'multi_class': 'ovr', 'penalty': 'l2', 'solver': 'lbfgs'}\n",
      "\t0.959 (+/-0.026) for {'C': 10, 'multi_class': 'multinomial', 'penalty': 'l2', 'solver': 'lbfgs'}\n",
      "\t0.944 (+/-0.026) for {'C': 50, 'multi_class': 'ovr', 'penalty': 'l2', 'solver': 'lbfgs'}\n",
      "\t0.958 (+/-0.030) for {'C': 50, 'multi_class': 'multinomial', 'penalty': 'l2', 'solver': 'lbfgs'}\n",
      "\t0.938 (+/-0.028) for {'C': 100, 'multi_class': 'ovr', 'penalty': 'l2', 'solver': 'lbfgs'}\n",
      "\t0.956 (+/-0.026) for {'C': 100, 'multi_class': 'multinomial', 'penalty': 'l2', 'solver': 'lbfgs'}\n",
      "Optimized Score: 0.973333333333\n",
      "Detailed classification report:\n",
      "             precision    recall  f1-score   support\n",
      "\n",
      "          0       1.00      1.00      1.00        45\n",
      "          1       0.87      0.98      0.92        46\n",
      "          2       1.00      0.98      0.99        44\n",
      "          3       1.00      1.00      1.00        46\n",
      "          4       1.00      0.96      0.98        45\n",
      "          5       0.96      0.98      0.97        46\n",
      "          6       1.00      0.98      0.99        45\n",
      "          7       1.00      1.00      1.00        45\n",
      "          8       0.93      0.88      0.90        43\n",
      "          9       1.00      0.98      0.99        45\n",
      "\n",
      "avg / total       0.97      0.97      0.97       450\n",
      "\n"
     ]
    },
    {
     "name": "stderr",
     "output_type": "stream",
     "text": [
      "E:\\Data_analysis_plan\\python_36_install\\lib\\site-packages\\sklearn\\model_selection\\_search.py:761: DeprecationWarning: The grid_scores_ attribute was deprecated in version 0.18 in favor of the more elaborate cv_results_ attribute. The grid_scores_ attribute will not be available from 0.20\n",
      "  DeprecationWarning)\n"
     ]
    }
   ],
   "source": [
    "if __name__=='__main__':\n",
    "    test_GridSearchCV()"
   ]
  },
  {
   "cell_type": "markdown",
   "metadata": {},
   "source": [
    "# 调用 test_RandomizedSearchCV"
   ]
  },
  {
   "cell_type": "code",
   "execution_count": 98,
   "metadata": {},
   "outputs": [
    {
     "name": "stdout",
     "output_type": "stream",
     "text": [
      "Best parameters set found: {'C': 5.2575671792722298, 'multi_class': 'multinomial'}\n",
      "Randomized Grid scores:\n",
      "\t0.940 (+/-0.024) for {'C': 82.296027730414963, 'multi_class': 'ovr'}\n",
      "\t0.960 (+/-0.026) for {'C': 1.9293057704434464, 'multi_class': 'multinomial'}\n",
      "\t0.958 (+/-0.025) for {'C': 202.66316440840689, 'multi_class': 'multinomial'}\n",
      "\t0.945 (+/-0.028) for {'C': 27.306903767299794, 'multi_class': 'ovr'}\n",
      "\t0.957 (+/-0.027) for {'C': 107.59422789400064, 'multi_class': 'multinomial'}\n",
      "\t0.941 (+/-0.026) for {'C': 65.416229491437932, 'multi_class': 'ovr'}\n",
      "\t0.957 (+/-0.029) for {'C': 27.529670212468638, 'multi_class': 'multinomial'}\n",
      "\t0.947 (+/-0.026) for {'C': 26.630931428152337, 'multi_class': 'ovr'}\n",
      "\t0.941 (+/-0.028) for {'C': 57.344169513497043, 'multi_class': 'ovr'}\n",
      "\t0.941 (+/-0.025) for {'C': 75.442058537104046, 'multi_class': 'ovr'}\n",
      "\t0.936 (+/-0.031) for {'C': 128.94967906115531, 'multi_class': 'ovr'}\n",
      "\t0.961 (+/-0.027) for {'C': 5.2575671792722298, 'multi_class': 'multinomial'}\n",
      "\t0.947 (+/-0.026) for {'C': 14.932778259399976, 'multi_class': 'ovr'}\n",
      "\t0.941 (+/-0.025) for {'C': 44.786390153141717, 'multi_class': 'ovr'}\n",
      "\t0.961 (+/-0.026) for {'C': 2.0880480324376558, 'multi_class': 'multinomial'}\n",
      "\t0.957 (+/-0.027) for {'C': 100.66335991557193, 'multi_class': 'multinomial'}\n",
      "\t0.957 (+/-0.028) for {'C': 70.282343748180736, 'multi_class': 'multinomial'}\n",
      "\t0.958 (+/-0.030) for {'C': 37.492559367004759, 'multi_class': 'multinomial'}\n",
      "\t0.943 (+/-0.026) for {'C': 40.871489868739751, 'multi_class': 'ovr'}\n",
      "\t0.958 (+/-0.028) for {'C': 85.719107779759668, 'multi_class': 'multinomial'}\n",
      "\t0.950 (+/-0.023) for {'C': 5.1230354448020323, 'multi_class': 'ovr'}\n",
      "\t0.958 (+/-0.030) for {'C': 39.719025067954476, 'multi_class': 'multinomial'}\n",
      "\t0.956 (+/-0.029) for {'C': 27.407147190017977, 'multi_class': 'multinomial'}\n",
      "\t0.961 (+/-0.024) for {'C': 4.3376343297023103, 'multi_class': 'multinomial'}\n",
      "\t0.947 (+/-0.028) for {'C': 16.215104727744418, 'multi_class': 'ovr'}\n",
      "\t0.931 (+/-0.031) for {'C': 329.05241005828248, 'multi_class': 'ovr'}\n",
      "\t0.959 (+/-0.027) for {'C': 16.930806798516205, 'multi_class': 'multinomial'}\n",
      "\t0.941 (+/-0.028) for {'C': 55.605689875430677, 'multi_class': 'ovr'}\n",
      "\t0.950 (+/-0.032) for {'C': 7.4381895429110463, 'multi_class': 'ovr'}\n",
      "\t0.957 (+/-0.029) for {'C': 39.702332132855496, 'multi_class': 'multinomial'}\n",
      "\t0.935 (+/-0.028) for {'C': 141.69580301856621, 'multi_class': 'ovr'}\n",
      "\t0.958 (+/-0.030) for {'C': 92.197257053512217, 'multi_class': 'multinomial'}\n",
      "\t0.957 (+/-0.029) for {'C': 45.610234166607725, 'multi_class': 'multinomial'}\n",
      "\t0.949 (+/-0.026) for {'C': 15.805991920814074, 'multi_class': 'ovr'}\n",
      "\t0.960 (+/-0.028) for {'C': 21.148914931083951, 'multi_class': 'multinomial'}\n",
      "\t0.957 (+/-0.029) for {'C': 24.213619701374284, 'multi_class': 'multinomial'}\n",
      "\t0.937 (+/-0.030) for {'C': 141.03395613093429, 'multi_class': 'ovr'}\n",
      "\t0.955 (+/-0.028) for {'C': 43.193507289515189, 'multi_class': 'multinomial'}\n",
      "\t0.939 (+/-0.030) for {'C': 93.717590077995169, 'multi_class': 'ovr'}\n",
      "\t0.938 (+/-0.029) for {'C': 95.369769327526697, 'multi_class': 'ovr'}\n",
      "\t0.958 (+/-0.027) for {'C': 87.32414654309062, 'multi_class': 'multinomial'}\n",
      "\t0.958 (+/-0.026) for {'C': 104.26545646023378, 'multi_class': 'multinomial'}\n",
      "\t0.938 (+/-0.029) for {'C': 114.03019946940208, 'multi_class': 'ovr'}\n",
      "\t0.937 (+/-0.032) for {'C': 114.5894553655979, 'multi_class': 'ovr'}\n",
      "\t0.958 (+/-0.025) for {'C': 15.179807996225872, 'multi_class': 'multinomial'}\n",
      "\t0.958 (+/-0.027) for {'C': 85.598521219010721, 'multi_class': 'multinomial'}\n",
      "\t0.941 (+/-0.027) for {'C': 66.742647660749412, 'multi_class': 'ovr'}\n",
      "\t0.941 (+/-0.027) for {'C': 60.264746224399566, 'multi_class': 'ovr'}\n",
      "\t0.958 (+/-0.027) for {'C': 155.9676495712304, 'multi_class': 'multinomial'}\n",
      "\t0.957 (+/-0.029) for {'C': 25.973901276743543, 'multi_class': 'multinomial'}\n",
      "\t0.942 (+/-0.024) for {'C': 56.754145981898894, 'multi_class': 'ovr'}\n",
      "\t0.930 (+/-0.029) for {'C': 236.51243969716936, 'multi_class': 'ovr'}\n",
      "\t0.961 (+/-0.025) for {'C': 5.6094460533699291, 'multi_class': 'multinomial'}\n",
      "\t0.950 (+/-0.029) for {'C': 5.9115304291589093, 'multi_class': 'ovr'}\n",
      "\t0.944 (+/-0.030) for {'C': 24.941107529147359, 'multi_class': 'ovr'}\n",
      "\t0.952 (+/-0.029) for {'C': 0.78346732348214088, 'multi_class': 'ovr'}\n",
      "\t0.960 (+/-0.024) for {'C': 3.9996710224604088, 'multi_class': 'multinomial'}\n",
      "\t0.959 (+/-0.029) for {'C': 87.479986603257373, 'multi_class': 'multinomial'}\n",
      "\t0.931 (+/-0.031) for {'C': 267.08126488429309, 'multi_class': 'ovr'}\n",
      "\t0.938 (+/-0.030) for {'C': 116.92755240746841, 'multi_class': 'ovr'}\n",
      "\t0.944 (+/-0.027) for {'C': 27.643716456059238, 'multi_class': 'ovr'}\n",
      "\t0.957 (+/-0.029) for {'C': 165.70977259924717, 'multi_class': 'multinomial'}\n",
      "\t0.941 (+/-0.024) for {'C': 52.270324517050284, 'multi_class': 'ovr'}\n",
      "\t0.947 (+/-0.029) for {'C': 23.811573999687528, 'multi_class': 'ovr'}\n",
      "\t0.938 (+/-0.031) for {'C': 144.89187688226633, 'multi_class': 'ovr'}\n",
      "\t0.958 (+/-0.028) for {'C': 150.36135411679919, 'multi_class': 'multinomial'}\n",
      "\t0.936 (+/-0.032) for {'C': 151.64614312664705, 'multi_class': 'ovr'}\n",
      "\t0.956 (+/-0.029) for {'C': 72.974476598250888, 'multi_class': 'multinomial'}\n",
      "\t0.941 (+/-0.023) for {'C': 66.766383668841371, 'multi_class': 'ovr'}\n",
      "\t0.956 (+/-0.026) for {'C': 111.13494076596702, 'multi_class': 'multinomial'}\n",
      "\t0.958 (+/-0.028) for {'C': 59.718567171714277, 'multi_class': 'multinomial'}\n",
      "\t0.939 (+/-0.028) for {'C': 69.898517784989579, 'multi_class': 'ovr'}\n",
      "\t0.957 (+/-0.029) for {'C': 43.777382297971727, 'multi_class': 'multinomial'}\n",
      "\t0.956 (+/-0.028) for {'C': 25.196610854733503, 'multi_class': 'multinomial'}\n",
      "\t0.938 (+/-0.027) for {'C': 103.54147800626367, 'multi_class': 'ovr'}\n",
      "\t0.955 (+/-0.028) for {'C': 30.305246801451119, 'multi_class': 'multinomial'}\n",
      "\t0.950 (+/-0.024) for {'C': 13.925470308304808, 'multi_class': 'ovr'}\n",
      "\t0.957 (+/-0.027) for {'C': 234.47128294860713, 'multi_class': 'multinomial'}\n",
      "\t0.956 (+/-0.028) for {'C': 79.487843094789383, 'multi_class': 'multinomial'}\n",
      "\t0.939 (+/-0.032) for {'C': 93.591061158911458, 'multi_class': 'ovr'}\n",
      "\t0.958 (+/-0.031) for {'C': 196.38533172249376, 'multi_class': 'multinomial'}\n",
      "\t0.944 (+/-0.026) for {'C': 34.013285340246675, 'multi_class': 'ovr'}\n",
      "\t0.951 (+/-0.026) for {'C': 2.8629018138665443, 'multi_class': 'ovr'}\n",
      "\t0.959 (+/-0.029) for {'C': 103.95201228311393, 'multi_class': 'multinomial'}\n",
      "\t0.955 (+/-0.028) for {'C': 57.02070998395272, 'multi_class': 'multinomial'}\n",
      "\t0.942 (+/-0.026) for {'C': 49.065333851154449, 'multi_class': 'ovr'}\n",
      "\t0.932 (+/-0.031) for {'C': 387.12281258540889, 'multi_class': 'ovr'}\n",
      "\t0.944 (+/-0.023) for {'C': 52.680638941662281, 'multi_class': 'ovr'}\n",
      "\t0.959 (+/-0.028) for {'C': 240.93626163160985, 'multi_class': 'multinomial'}\n",
      "\t0.939 (+/-0.028) for {'C': 80.37422223268355, 'multi_class': 'ovr'}\n",
      "\t0.939 (+/-0.027) for {'C': 62.817537557468093, 'multi_class': 'ovr'}\n",
      "\t0.947 (+/-0.027) for {'C': 24.266363153071286, 'multi_class': 'ovr'}\n",
      "\t0.958 (+/-0.025) for {'C': 131.84667935591932, 'multi_class': 'multinomial'}\n",
      "\t0.935 (+/-0.028) for {'C': 147.08995117201937, 'multi_class': 'ovr'}\n",
      "\t0.940 (+/-0.027) for {'C': 71.679175175126417, 'multi_class': 'ovr'}\n",
      "\t0.935 (+/-0.031) for {'C': 139.41100592735594, 'multi_class': 'ovr'}\n",
      "\t0.934 (+/-0.028) for {'C': 281.60438388130547, 'multi_class': 'ovr'}\n",
      "\t0.947 (+/-0.026) for {'C': 24.086843940296916, 'multi_class': 'ovr'}\n",
      "\t0.942 (+/-0.025) for {'C': 50.650928433692421, 'multi_class': 'ovr'}\n",
      "\t0.959 (+/-0.027) for {'C': 314.69182864195051, 'multi_class': 'multinomial'}\n",
      "Optimized Score: 0.955555555556\n",
      "Detailed classification report:\n",
      "             precision    recall  f1-score   support\n",
      "\n",
      "          0       1.00      1.00      1.00        45\n",
      "          1       0.83      0.98      0.90        46\n",
      "          2       1.00      0.98      0.99        44\n",
      "          3       0.94      1.00      0.97        46\n",
      "          4       1.00      0.96      0.98        45\n",
      "          5       0.98      0.93      0.96        46\n",
      "          6       0.98      0.98      0.98        45\n",
      "          7       0.98      0.93      0.95        45\n",
      "          8       0.95      0.86      0.90        43\n",
      "          9       0.93      0.93      0.93        45\n",
      "\n",
      "avg / total       0.96      0.96      0.96       450\n",
      "\n"
     ]
    },
    {
     "name": "stderr",
     "output_type": "stream",
     "text": [
      "E:\\Data_analysis_plan\\python_36_install\\lib\\site-packages\\sklearn\\model_selection\\_search.py:761: DeprecationWarning: The grid_scores_ attribute was deprecated in version 0.18 in favor of the more elaborate cv_results_ attribute. The grid_scores_ attribute will not be available from 0.20\n",
      "  DeprecationWarning)\n"
     ]
    }
   ],
   "source": [
    "test_RandomizedSearchCV() "
   ]
  },
  {
   "cell_type": "markdown",
   "metadata": {},
   "source": [
    "# ④模型选择 学习曲线"
   ]
  },
  {
   "cell_type": "code",
   "execution_count": 99,
   "metadata": {},
   "outputs": [
    {
     "name": "stderr",
     "output_type": "stream",
     "text": [
      "E:\\Data_analysis_plan\\python_36_install\\lib\\site-packages\\sklearn\\cross_validation.py:41: DeprecationWarning: This module was deprecated in version 0.18 in favor of the model_selection module into which all the refactored classes and functions are moved. Also note that the interface of the new CV iterators are different from that of this module. This module will be removed in 0.20.\n",
      "  \"This module will be removed in 0.20.\", DeprecationWarning)\n",
      "E:\\Data_analysis_plan\\python_36_install\\lib\\site-packages\\sklearn\\learning_curve.py:22: DeprecationWarning: This module was deprecated in version 0.18 in favor of the model_selection module into which all the functions are moved. This module will be removed in 0.20\n",
      "  DeprecationWarning)\n"
     ]
    }
   ],
   "source": [
    "import matplotlib.pyplot as plt\n",
    "import numpy as np\n",
    "from sklearn.datasets import load_digits\n",
    "from sklearn.svm import LinearSVC\n",
    "from sklearn.learning_curve import learning_curve"
   ]
  },
  {
   "cell_type": "markdown",
   "metadata": {},
   "source": [
    "# 测试 learning_curve 的用法 。验证对于 LinearSVC 分类器 ，数据集的大小对于预测性能的影响"
   ]
  },
  {
   "cell_type": "code",
   "execution_count": 104,
   "metadata": {
    "collapsed": true
   },
   "outputs": [],
   "source": [
    "def test_learning_curve():\n",
    "    '''\n",
    "    测试 learning_curve 的用法 。验证对于 LinearSVC 分类器 ，数据集的大小对于预测性能的影响\n",
    "\n",
    "    :return:\n",
    "    '''\n",
    "    ### 加载数据\n",
    "    digits = load_digits()\n",
    "    X,y=digits.data,digits.target\n",
    "    #### 获取学习曲线 ######\n",
    "    train_sizes=np.linspace(0.1,1.0,endpoint=True,dtype='float')\n",
    "    abs_trains_sizes,train_scores, test_scores = learning_curve(LinearSVC(),\n",
    "            X, y,cv=10, scoring=\"accuracy\",train_sizes=train_sizes)\n",
    "    ###### 对每个 C ，获取 10 折交叉上的预测得分上的均值和方差 #####\n",
    "    train_scores_mean = np.mean(train_scores, axis=1)\n",
    "    train_scores_std = np.std(train_scores, axis=1)\n",
    "    test_scores_mean = np.mean(test_scores, axis=1)\n",
    "    test_scores_std = np.std(test_scores, axis=1)\n",
    "    ####### 绘图 ######\n",
    "    fig=plt.figure(figsize=(10,8),dpi=80)\n",
    "    ax=fig.add_subplot(1,1,1)\n",
    "\n",
    "    ax.plot(abs_trains_sizes, train_scores_mean, label=\"Training Accuracy\", color=\"r\")\n",
    "    ax.fill_between(abs_trains_sizes, train_scores_mean - train_scores_std,\n",
    "                     train_scores_mean + train_scores_std, alpha=0.2, color=\"r\")\n",
    "    ax.plot(abs_trains_sizes, test_scores_mean, label=\"Testing Accuracy\", color=\"g\")\n",
    "    ax.fill_between(abs_trains_sizes, test_scores_mean - test_scores_std,\n",
    "                     test_scores_mean + test_scores_std, alpha=0.2, color=\"g\")\n",
    "\n",
    "    ax.set_title(\"Learning Curve with LinearSVC\")\n",
    "    ax.set_xlabel(\"Sample Nums\")\n",
    "    ax.set_ylabel(\"Score\")\n",
    "    ax.set_ylim(0,1.1)\n",
    "    ax.legend(loc='best')\n",
    "    plt.show()"
   ]
  },
  {
   "cell_type": "markdown",
   "metadata": {},
   "source": [
    "# 调用 test_learni"
   ]
  },
  {
   "cell_type": "code",
   "execution_count": 105,
   "metadata": {},
   "outputs": [
    {
     "data": {
      "image/png": "[encoded data removed]",
      "text/plain": [
       "<matplotlib.figure.Figure at 0x9c57590>"
      ]
     },
     "metadata": {},
     "output_type": "display_data"
    }
   ],
   "source": [
    "if __name__==\"__main__\":\n",
    "    test_learning_curve() "
   ]
  },
  {
   "cell_type": "markdown",
   "metadata": {},
   "source": [
    "# ⑤模型选择 损失函数"
   ]
  },
  {
   "cell_type": "code",
   "execution_count": 106,
   "metadata": {
    "collapsed": true
   },
   "outputs": [],
   "source": [
    "from sklearn.metrics import zero_one_loss,log_loss"
   ]
  },
  {
   "cell_type": "markdown",
   "metadata": {},
   "source": [
    "# 测试 0-1 损失函数"
   ]
  },
  {
   "cell_type": "code",
   "execution_count": 107,
   "metadata": {
    "collapsed": true
   },
   "outputs": [],
   "source": [
    "def test_zero_one_loss():\n",
    "    '''\n",
    "    测试 0-1 损失函数\n",
    "\n",
    "    :return: None\n",
    "    '''\n",
    "    y_true=[1,1,1,1,1,0,0,0,0,0]\n",
    "    y_pred=[0,0,0,1,1,1,1,1,0,0]\n",
    "    print(\"zero_one_loss<fraction>:\",zero_one_loss(y_true,y_pred,normalize=True))\n",
    "    print(\"zero_one_loss<num>:\",zero_one_loss(y_true,y_pred,normalize=False))"
   ]
  },
  {
   "cell_type": "markdown",
   "metadata": {},
   "source": [
    "# 测试对数损失函数"
   ]
  },
  {
   "cell_type": "code",
   "execution_count": 108,
   "metadata": {
    "collapsed": true
   },
   "outputs": [],
   "source": [
    "def test_log_loss():\n",
    "    '''\n",
    "    测试对数损失函数\n",
    "\n",
    "    :return:  None\n",
    "    '''\n",
    "    y_true=[1, 1, 1, 0, 0, 0]\n",
    "    y_pred=[[0.1, 0.9],\n",
    "            [0.2, 0.8],\n",
    "            [0.3, 0.7],\n",
    "            [0.7, 0.3],\n",
    "            [0.8, 0.2],\n",
    "            [0.9, 0.1]]\n",
    "    print(\"log_loss<average>:\",log_loss(y_true,y_pred,normalize=True))\n",
    "    print(\"log_loss<total>:\",log_loss(y_true,y_pred,normalize=False))"
   ]
  },
  {
   "cell_type": "markdown",
   "metadata": {},
   "source": [
    "# 调用 test_zero_one_loss"
   ]
  },
  {
   "cell_type": "code",
   "execution_count": 109,
   "metadata": {},
   "outputs": [
    {
     "name": "stdout",
     "output_type": "stream",
     "text": [
      "zero_one_loss<fraction>: 0.6\n",
      "zero_one_loss<num>: 6\n"
     ]
    }
   ],
   "source": [
    "if __name__==\"__main__\":\n",
    "    test_zero_one_loss() "
   ]
  },
  {
   "cell_type": "markdown",
   "metadata": {},
   "source": [
    "# 调用 test_log_loss"
   ]
  },
  {
   "cell_type": "code",
   "execution_count": 110,
   "metadata": {},
   "outputs": [
    {
     "name": "stdout",
     "output_type": "stream",
     "text": [
      "log_loss<average>: 0.228393003637\n",
      "log_loss<total>: 1.37035802182\n"
     ]
    }
   ],
   "source": [
    "test_log_loss() "
   ]
  },
  {
   "cell_type": "markdown",
   "metadata": {},
   "source": [
    "# ⑥ 模型选择 回归问题性能度量"
   ]
  },
  {
   "cell_type": "code",
   "execution_count": 111,
   "metadata": {
    "collapsed": true
   },
   "outputs": [],
   "source": [
    "from sklearn.metrics import mean_absolute_error,mean_squared_error"
   ]
  },
  {
   "cell_type": "markdown",
   "metadata": {},
   "source": [
    "# 测试 mean_absolute_error 的用法"
   ]
  },
  {
   "cell_type": "code",
   "execution_count": 112,
   "metadata": {
    "collapsed": true
   },
   "outputs": [],
   "source": [
    "def test_mean_absolute_error():\n",
    "    '''\n",
    "    测试 mean_absolute_error 的用法\n",
    "\n",
    "    :return: None\n",
    "    '''\n",
    "    y_true=[1,1,1,1,1,2,2,2,0,0]\n",
    "    y_pred=[0,0,0,1,1,1,0,0,0,0]\n",
    "\n",
    "    print(\"Mean Absolute Error:\",mean_absolute_error(y_true,y_pred))"
   ]
  },
  {
   "cell_type": "markdown",
   "metadata": {},
   "source": [
    "# 测试 mean_squared_error 的用法"
   ]
  },
  {
   "cell_type": "code",
   "execution_count": 113,
   "metadata": {
    "collapsed": true
   },
   "outputs": [],
   "source": [
    "def test_mean_squared_error():\n",
    "    '''\n",
    "    测试 mean_squared_error 的用法\n",
    "\n",
    "    :return: None\n",
    "    '''\n",
    "    y_true=[1,1,1,1,1,2,2,2,0,0]\n",
    "    y_pred=[0,0,0,1,1,1,0,0,0,0]\n",
    "\n",
    "    print(\"Mean Absolute Error:\",mean_absolute_error(y_true,y_pred))\n",
    "    print(\"Mean Square Error:\",mean_squared_error(y_true,y_pred))\n"
   ]
  },
  {
   "cell_type": "markdown",
   "metadata": {},
   "source": [
    "# 调用  test_mean_absolute_error()"
   ]
  },
  {
   "cell_type": "code",
   "execution_count": 114,
   "metadata": {},
   "outputs": [
    {
     "name": "stdout",
     "output_type": "stream",
     "text": [
      "Mean Absolute Error: 0.8\n"
     ]
    }
   ],
   "source": [
    "if __name__==\"__main__\":\n",
    "    test_mean_absolute_error() "
   ]
  },
  {
   "cell_type": "markdown",
   "metadata": {},
   "source": [
    "# 调用  test_mean_squared_error()"
   ]
  },
  {
   "cell_type": "code",
   "execution_count": 115,
   "metadata": {},
   "outputs": [
    {
     "name": "stdout",
     "output_type": "stream",
     "text": [
      "Mean Absolute Error: 0.8\n",
      "Mean Square Error: 1.2\n"
     ]
    }
   ],
   "source": [
    "test_mean_squared_error() "
   ]
  },
  {
   "cell_type": "markdown",
   "metadata": {},
   "source": [
    "# ⑦模型选择 验证曲线"
   ]
  },
  {
   "cell_type": "code",
   "execution_count": 116,
   "metadata": {
    "collapsed": true
   },
   "outputs": [],
   "source": [
    "import matplotlib.pyplot as plt\n",
    "import numpy as np\n",
    "from sklearn.datasets import load_digits\n",
    "from sklearn.svm import LinearSVC\n",
    "from sklearn.learning_curve import validation_curve"
   ]
  },
  {
   "cell_type": "markdown",
   "metadata": {},
   "source": [
    "# 测试 validation_curve 的用法 。验证对于 LinearSVC 分类器 ， C 参数对于预测准确率的影响"
   ]
  },
  {
   "cell_type": "code",
   "execution_count": 117,
   "metadata": {
    "collapsed": true
   },
   "outputs": [],
   "source": [
    "def test_validation_curve():\n",
    "    '''\n",
    "    测试 validation_curve 的用法 。验证对于 LinearSVC 分类器 ， C 参数对于预测准确率的影响\n",
    "\n",
    "    :return:  None\n",
    "    '''\n",
    "    ### 加载数据\n",
    "    digits = load_digits()\n",
    "    X,y=digits.data,digits.target\n",
    "    #### 获取验证曲线 ######\n",
    "    param_name=\"C\"\n",
    "    param_range = np.logspace(-2, 2)\n",
    "    train_scores, test_scores = validation_curve(LinearSVC(), X, y, param_name=param_name,\n",
    "             param_range=param_range,cv=10, scoring=\"accuracy\")\n",
    "    ###### 对每个 C ，获取 10 折交叉上的预测得分上的均值和方差 #####\n",
    "    train_scores_mean = np.mean(train_scores, axis=1)\n",
    "    train_scores_std = np.std(train_scores, axis=1)\n",
    "    test_scores_mean = np.mean(test_scores, axis=1)\n",
    "    test_scores_std = np.std(test_scores, axis=1)\n",
    "    ####### 绘图 ######\n",
    "    fig=plt.figure(figsize=(10,8),dpi=80)\n",
    "    ax=fig.add_subplot(1,1,1)\n",
    "\n",
    "    ax.semilogx(param_range, train_scores_mean, label=\"Training Accuracy\", color=\"r\")\n",
    "    ax.fill_between(param_range, train_scores_mean - train_scores_std,\n",
    "                     train_scores_mean + train_scores_std, alpha=0.2, color=\"r\")\n",
    "    ax.semilogx(param_range, test_scores_mean, label=\"Testing Accuracy\", color=\"g\")\n",
    "    ax.fill_between(param_range, test_scores_mean - test_scores_std,\n",
    "                     test_scores_mean + test_scores_std, alpha=0.2, color=\"g\")\n",
    "\n",
    "    ax.set_title(\"Validation Curve with LinearSVC\")\n",
    "    ax.set_xlabel(\"C\")\n",
    "    ax.set_ylabel(\"Score\")\n",
    "    ax.set_ylim(0,1.1)\n",
    "    ax.legend(loc='best')\n",
    "    plt.show()"
   ]
  },
  {
   "cell_type": "markdown",
   "metadata": {},
   "source": [
    "# 调用 test_validation_curve"
   ]
  },
  {
   "cell_type": "code",
   "execution_count": 118,
   "metadata": {},
   "outputs": [
    {
     "data": {
      "image/png": "[encoded data removed]",
      "text/plain": [
       "<matplotlib.figure.Figure at 0x1117dd0>"
      ]
     },
     "metadata": {},
     "output_type": "display_data"
    }
   ],
   "source": [
    "if __name__=='__main__':\n",
    "    test_validation_curve() "
   ]
  },
  {
   "cell_type": "code",
   "execution_count": null,
   "metadata": {
    "collapsed": true
   },
   "outputs": [],
   "source": []
  }
 ],
 "metadata": {
  "kernelspec": {
   "display_name": "Python 3",
   "language": "python",
   "name": "python3"
  },
  "language_info": {
   "codemirror_mode": {
    "name": "ipython",
    "version": 3
   },
   "file_extension": ".py",
   "mimetype": "text/x-python",
   "name": "python",
   "nbconvert_exporter": "python",
   "pygments_lexer": "ipython3",
   "version": "3.6.3"
  }
 },
 "nbformat": 4,
 "nbformat_minor": 2
}
